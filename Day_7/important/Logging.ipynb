{
 "cells": [
  {
   "cell_type": "code",
   "execution_count": 1,
   "id": "658ec3c1",
   "metadata": {},
   "outputs": [
    {
     "name": "stdout",
     "output_type": "stream",
     "text": [
      "hello world\n"
     ]
    }
   ],
   "source": [
    "print(\"hello world\")"
   ]
  },
  {
   "cell_type": "code",
   "execution_count": null,
   "id": "4e23ad8d",
   "metadata": {},
   "outputs": [],
   "source": []
  },
  {
   "cell_type": "markdown",
   "id": "7cb76b5a",
   "metadata": {},
   "source": [
    "# Logging in Flask Applications \n",
    "\n",
    "Logging is essential for monitoring, debugging, and maintaining Flask applications. Here's a comprehensive guide to different types of logging and how to implement them. "
   ]
  },
  {
   "cell_type": "markdown",
   "id": "998f4fe7",
   "metadata": {},
   "source": [
    "### 1. Basic Logging Setup \n",
    "\n",
    "\n",
    "Default Flask Logging \n",
    "\n",
    "Flask provides built-in logging through Python's logging module: "
   ]
  },
  {
   "cell_type": "code",
   "execution_count": 2,
   "id": "f88512fe",
   "metadata": {},
   "outputs": [
    {
     "name": "stderr",
     "output_type": "stream",
     "text": [
      "[2025-10-05 23:55:49,570] ERROR in 2879173933: An error occurred\n"
     ]
    }
   ],
   "source": [
    "from flask import Flask\n",
    "import logging\n",
    "\n",
    "app = Flask(__name__)\n",
    "\n",
    "# Basic logging\n",
    "app.logger.info(\"Application started\")\n",
    "app.logger.error(\"An error occurred\")\n",
    "\n",
    "@app.route('/')\n",
    "def home():\n",
    "    app.logger.debug(\"Home page accessed\")\n",
    "    return \"Hello, World!\""
   ]
  },
  {
   "cell_type": "markdown",
   "id": "ad09dd26",
   "metadata": {},
   "source": [
    "### Custom Logger Configuration"
   ]
  },
  {
   "cell_type": "code",
   "execution_count": 3,
   "id": "64ec2639",
   "metadata": {},
   "outputs": [
    {
     "name": "stderr",
     "output_type": "stream",
     "text": [
      "[2025-10-05 23:56:32,325] INFO in 146511656: Application startup\n"
     ]
    }
   ],
   "source": [
    "import logging\n",
    "from logging.handlers import RotatingFileHandler\n",
    "import os\n",
    "\n",
    "def setup_logging(app):\n",
    "    if not app.debug and not app.testing:\n",
    "        # Create logs directory if it doesn't exist\n",
    "        if not os.path.exists('logs'):\n",
    "            os.mkdir('logs')\n",
    "        \n",
    "        # Set up file handler with rotation\n",
    "        file_handler = RotatingFileHandler(\n",
    "            'logs/app.log', \n",
    "            maxBytes=10240000,  # 10MB\n",
    "            backupCount=10\n",
    "        )\n",
    "        file_handler.setFormatter(logging.Formatter(\n",
    "            '%(asctime)s %(levelname)s: %(message)s [in %(pathname)s:%(lineno)d]'\n",
    "        ))\n",
    "        file_handler.setLevel(logging.INFO)\n",
    "        app.logger.addHandler(file_handler)\n",
    "        \n",
    "        app.logger.setLevel(logging.INFO)\n",
    "        app.logger.info('Application startup')\n",
    "\n",
    "app = Flask(__name__)\n",
    "setup_logging(app)"
   ]
  },
  {
   "cell_type": "markdown",
   "id": "42541130",
   "metadata": {},
   "source": [
    "### 2. Different Types of Logging \n",
    "### A. Application Logging \n",
    "\n",
    "Track application-specific events and business logic: "
   ]
  },
  {
   "cell_type": "code",
   "execution_count": 4,
   "id": "1624f2c4",
   "metadata": {},
   "outputs": [],
   "source": [
    "@app.route('/user/<int:user_id>')\n",
    "def get_user(user_id):\n",
    "    try:\n",
    "        user = User.query.get(user_id)\n",
    "        if user:\n",
    "            app.logger.info(f\"User {user_id} retrieved successfully\")\n",
    "            return jsonify(user.to_dict())\n",
    "        else:\n",
    "            app.logger.warning(f\"User {user_id} not found\")\n",
    "            return jsonify({\"error\": \"User not found\"}), 404\n",
    "    except Exception as e:\n",
    "        app.logger.error(f\"Error retrieving user {user_id}: {str(e)}\")\n",
    "        return jsonify({\"error\": \"Internal server error\"}), 500"
   ]
  },
  {
   "cell_type": "markdown",
   "id": "3664988a",
   "metadata": {},
   "source": [
    "### B. Request/Response Logging \n",
    "\n",
    "Log incoming requests and outgoing responses: "
   ]
  },
  {
   "cell_type": "code",
   "execution_count": 5,
   "id": "c4281a89",
   "metadata": {},
   "outputs": [],
   "source": [
    "from flask import request, g\n",
    "import time\n",
    "\n",
    "@app.before_request\n",
    "def log_request_info():\n",
    "    g.start_time = time.time()\n",
    "    app.logger.info(f\"Request: {request.method} {request.url}\")\n",
    "    app.logger.info(f\"Headers: {dict(request.headers)}\")\n",
    "    if request.get_data():\n",
    "        app.logger.info(f\"Body: {request.get_data()}\")\n",
    "\n",
    "@app.after_request\n",
    "def log_response_info(response):\n",
    "    duration = time.time() - g.start_time\n",
    "    app.logger.info(f\"Response: {response.status_code} ({duration:.2f}s)\")\n",
    "    return response"
   ]
  },
  {
   "cell_type": "markdown",
   "id": "8671c20d",
   "metadata": {},
   "source": [
    "### C. Error Logging \n",
    "\n",
    "Handle and log different types of errors: "
   ]
  },
  {
   "cell_type": "code",
   "execution_count": 6,
   "id": "cf83f343",
   "metadata": {},
   "outputs": [],
   "source": [
    "@app.errorhandler(404)\n",
    "def not_found_error(error):\n",
    "    app.logger.warning(f\"404 error: {request.url}\")\n",
    "    return jsonify({\"error\": \"Not found\"}), 404\n",
    "\n",
    "@app.errorhandler(500)\n",
    "def internal_error(error):\n",
    "    app.logger.error(f\"500 error: {str(error)}\")\n",
    "    return jsonify({\"error\": \"Internal server error\"}), 500\n",
    "\n",
    "# Log unhandled exceptions\n",
    "@app.errorhandler(Exception)\n",
    "def handle_exception(e):\n",
    "    app.logger.exception(f\"Unhandled exception: {str(e)}\")\n",
    "    return jsonify({\"error\": \"Internal server error\"}), 500"
   ]
  },
  {
   "cell_type": "markdown",
   "id": "6b6cb769",
   "metadata": {},
   "source": [
    "### D. Database Query Logging \n",
    "\n",
    "Log database operations (useful for debugging performance issues): "
   ]
  },
  {
   "cell_type": "code",
   "execution_count": 7,
   "id": "c788f063",
   "metadata": {},
   "outputs": [],
   "source": [
    "from sqlalchemy import event\n",
    "from sqlalchemy.engine import Engine\n",
    "\n",
    "@event.listens_for(Engine, \"before_cursor_execute\")\n",
    "def receive_before_cursor_execute(conn, cursor, statement, parameters, context, executemany):\n",
    "    if app.debug:\n",
    "        app.logger.debug(f\"SQL Query: {statement}\")\n",
    "        app.logger.debug(f\"Parameters: {parameters}\")\n",
    "\n",
    "# Or using Flask-SQLAlchemy\n",
    "from flask_sqlalchemy import SQLAlchemy\n",
    "db = SQLAlchemy()\n",
    "\n",
    "# Enable query logging\n",
    "app.config['SQLALCHEMY_ECHO'] = True  # Logs all queries to stdout"
   ]
  },
  {
   "cell_type": "markdown",
   "id": "5d313103",
   "metadata": {},
   "source": [
    "### 3. Advanced Logging Configurations \n",
    "Structured Logging with JSON "
   ]
  },
  {
   "cell_type": "code",
   "execution_count": 8,
   "id": "d2e963a7",
   "metadata": {},
   "outputs": [],
   "source": [
    "import json\n",
    "import logging\n",
    "\n",
    "class JSONFormatter(logging.Formatter):\n",
    "    def format(self, record):\n",
    "        log_entry = {\n",
    "            'timestamp': self.formatTime(record),\n",
    "            'level': record.levelname,\n",
    "            'message': record.getMessage(),\n",
    "            'module': record.module,\n",
    "            'function': record.funcName,\n",
    "            'line': record.lineno\n",
    "        }\n",
    "        \n",
    "        if hasattr(record, 'user_id'):\n",
    "            log_entry['user_id'] = record.user_id\n",
    "            \n",
    "        return json.dumps(log_entry)\n",
    "\n",
    "# Configure JSON logging\n",
    "def setup_json_logging(app):\n",
    "    handler = logging.StreamHandler()\n",
    "    handler.setFormatter(JSONFormatter())\n",
    "    app.logger.addHandler(handler)\n",
    "    app.logger.setLevel(logging.INFO)"
   ]
  },
  {
   "cell_type": "markdown",
   "id": "0cf83460",
   "metadata": {},
   "source": [
    "### Context-Aware Logging \n",
    "\n",
    "Add user context or request context to logs: "
   ]
  },
  {
   "cell_type": "code",
   "execution_count": 9,
   "id": "30b5e2e3",
   "metadata": {},
   "outputs": [
    {
     "name": "stderr",
     "output_type": "stream",
     "text": [
      "[2025-10-06 00:00:19,916] INFO in 264594027: User performed action\n"
     ]
    }
   ],
   "source": [
    "from flask import g, has_request_context, request\n",
    "import logging\n",
    "\n",
    "class ContextualFilter(logging.Filter):\n",
    "    def filter(self, record):\n",
    "        if has_request_context():\n",
    "            record.url = request.url\n",
    "            record.remote_addr = request.remote_addr\n",
    "            record.user_id = getattr(g, 'user_id', 'anonymous')\n",
    "        else:\n",
    "            record.url = ''\n",
    "            record.remote_addr = ''\n",
    "            record.user_id = ''\n",
    "        return True\n",
    "\n",
    "# Apply the filter\n",
    "app.logger.addFilter(ContextualFilter())\n",
    "app.logger.info(\"User performed action\")\n",
    "# Output: INFO: User performed action [url=http://example.com, user_id=123]"
   ]
  },
  {
   "cell_type": "markdown",
   "id": "15fd6dc6",
   "metadata": {},
   "source": [
    "### Environment-Specific Logging"
   ]
  },
  {
   "cell_type": "code",
   "execution_count": 10,
   "id": "0918f6e7",
   "metadata": {},
   "outputs": [],
   "source": [
    "import os\n",
    "\n",
    "def configure_logging(app):\n",
    "    if app.debug:\n",
    "        # Development: verbose logging to console\n",
    "        app.logger.setLevel(logging.DEBUG)\n",
    "    elif os.environ.get('FLASK_ENV') == 'production':\n",
    "        # Production: structured logging to files\n",
    "        handler = RotatingFileHandler('logs/production.log', maxBytes=10000000)\n",
    "        handler.setFormatter(logging.Formatter(\n",
    "            '%(asctime)s %(levelname)s: %(message)s'\n",
    "        ))\n",
    "        app.logger.addHandler(handler)\n",
    "        app.logger.setLevel(logging.WARNING)\n",
    "    else:\n",
    "        # Testing/staging\n",
    "        app.logger.setLevel(logging.INFO)"
   ]
  },
  {
   "cell_type": "markdown",
   "id": "b548eb33",
   "metadata": {},
   "source": [
    "#### 4. Third-Party Logging Solutions \n",
    "Sentry Integration (Error Tracking) "
   ]
  },
  {
   "cell_type": "code",
   "execution_count": 13,
   "id": "3701f75b",
   "metadata": {},
   "outputs": [],
   "source": [
    "# !pip install sentry-sdk"
   ]
  },
  {
   "cell_type": "code",
   "execution_count": 1,
   "id": "e394767d",
   "metadata": {},
   "outputs": [
    {
     "ename": "BadDsn",
     "evalue": "Unsupported scheme ''",
     "output_type": "error",
     "traceback": [
      "\u001b[31m---------------------------------------------------------------------------\u001b[39m",
      "\u001b[31mBadDsn\u001b[39m                                    Traceback (most recent call last)",
      "\u001b[36mCell\u001b[39m\u001b[36m \u001b[39m\u001b[32mIn[1]\u001b[39m\u001b[32m, line 4\u001b[39m\n\u001b[32m      1\u001b[39m \u001b[38;5;28;01mimport\u001b[39;00m \u001b[34;01msentry_sdk\u001b[39;00m\n\u001b[32m      2\u001b[39m \u001b[38;5;28;01mfrom\u001b[39;00m \u001b[34;01msentry_sdk\u001b[39;00m\u001b[34;01m.\u001b[39;00m\u001b[34;01mintegrations\u001b[39;00m\u001b[34;01m.\u001b[39;00m\u001b[34;01mflask\u001b[39;00m \u001b[38;5;28;01mimport\u001b[39;00m FlaskIntegration\n\u001b[32m----> \u001b[39m\u001b[32m4\u001b[39m \u001b[43msentry_sdk\u001b[49m\u001b[43m.\u001b[49m\u001b[43minit\u001b[49m\u001b[43m(\u001b[49m\n\u001b[32m      5\u001b[39m \u001b[43m    \u001b[49m\u001b[43mdsn\u001b[49m\u001b[43m=\u001b[49m\u001b[33;43m\"\u001b[39;49m\u001b[33;43mYOUR_SENTRY_DSN\u001b[39;49m\u001b[33;43m\"\u001b[39;49m\u001b[43m,\u001b[49m\n\u001b[32m      6\u001b[39m \u001b[43m    \u001b[49m\u001b[43mintegrations\u001b[49m\u001b[43m=\u001b[49m\u001b[43m[\u001b[49m\u001b[43mFlaskIntegration\u001b[49m\u001b[43m(\u001b[49m\u001b[43m)\u001b[49m\u001b[43m]\u001b[49m\u001b[43m,\u001b[49m\n\u001b[32m      7\u001b[39m \u001b[43m    \u001b[49m\u001b[43mtraces_sample_rate\u001b[49m\u001b[43m=\u001b[49m\u001b[32;43m1.0\u001b[39;49m\n\u001b[32m      8\u001b[39m \u001b[43m)\u001b[49m\n\u001b[32m     10\u001b[39m \u001b[38;5;129m@app\u001b[39m.route(\u001b[33m'\u001b[39m\u001b[33m/trigger-error\u001b[39m\u001b[33m'\u001b[39m)\n\u001b[32m     11\u001b[39m \u001b[38;5;28;01mdef\u001b[39;00m \u001b[34mtrigger_error\u001b[39m():\n\u001b[32m     12\u001b[39m     \u001b[38;5;28;01mraise\u001b[39;00m \u001b[38;5;167;01mException\u001b[39;00m(\u001b[33m\"\u001b[39m\u001b[33mTest error for Sentry\u001b[39m\u001b[33m\"\u001b[39m)\n",
      "\u001b[36mFile \u001b[39m\u001b[32mc:\\Users\\Lenovo\\anaconda3\\envs\\yenepoya\\Lib\\site-packages\\sentry_sdk\\hub.py:131\u001b[39m, in \u001b[36m_init\u001b[39m\u001b[34m(*args, **kwargs)\u001b[39m\n\u001b[32m    125\u001b[39m \u001b[38;5;28;01mdef\u001b[39;00m \u001b[34m_init\u001b[39m(*args, **kwargs):\n\u001b[32m    126\u001b[39m     \u001b[38;5;66;03m# type: (*Optional[str], **Any) -> ContextManager[Any]\u001b[39;00m\n\u001b[32m    127\u001b[39m \u001b[38;5;250m    \u001b[39m\u001b[33;03m\"\"\"Initializes the SDK and optionally integrations.\u001b[39;00m\n\u001b[32m    128\u001b[39m \n\u001b[32m    129\u001b[39m \u001b[33;03m    This takes the same arguments as the client constructor.\u001b[39;00m\n\u001b[32m    130\u001b[39m \u001b[33;03m    \"\"\"\u001b[39;00m\n\u001b[32m--> \u001b[39m\u001b[32m131\u001b[39m     client = \u001b[43mClient\u001b[49m\u001b[43m(\u001b[49m\u001b[43m*\u001b[49m\u001b[43margs\u001b[49m\u001b[43m,\u001b[49m\u001b[43m \u001b[49m\u001b[43m*\u001b[49m\u001b[43m*\u001b[49m\u001b[43mkwargs\u001b[49m\u001b[43m)\u001b[49m  \u001b[38;5;66;03m# type: ignore\u001b[39;00m\n\u001b[32m    132\u001b[39m     Hub.current.bind_client(client)\n\u001b[32m    133\u001b[39m     _check_python_deprecations()\n",
      "\u001b[36mFile \u001b[39m\u001b[32mc:\\Users\\Lenovo\\anaconda3\\envs\\yenepoya\\Lib\\site-packages\\sentry_sdk\\client.py:162\u001b[39m, in \u001b[36m_Client.__init__\u001b[39m\u001b[34m(self, *args, **kwargs)\u001b[39m\n\u001b[32m    158\u001b[39m \u001b[38;5;28;01mdef\u001b[39;00m \u001b[34m__init__\u001b[39m(\u001b[38;5;28mself\u001b[39m, *args, **kwargs):\n\u001b[32m    159\u001b[39m     \u001b[38;5;66;03m# type: (*Any, **Any) -> None\u001b[39;00m\n\u001b[32m    160\u001b[39m     \u001b[38;5;28mself\u001b[39m.options = get_options(*args, **kwargs)  \u001b[38;5;66;03m# type: Dict[str, Any]\u001b[39;00m\n\u001b[32m--> \u001b[39m\u001b[32m162\u001b[39m     \u001b[38;5;28;43mself\u001b[39;49m\u001b[43m.\u001b[49m\u001b[43m_init_impl\u001b[49m\u001b[43m(\u001b[49m\u001b[43m)\u001b[49m\n",
      "\u001b[36mFile \u001b[39m\u001b[32mc:\\Users\\Lenovo\\anaconda3\\envs\\yenepoya\\Lib\\site-packages\\sentry_sdk\\client.py:230\u001b[39m, in \u001b[36m_Client._init_impl\u001b[39m\u001b[34m(self)\u001b[39m\n\u001b[32m    228\u001b[39m \u001b[38;5;28;01mtry\u001b[39;00m:\n\u001b[32m    229\u001b[39m     _client_init_debug.set(\u001b[38;5;28mself\u001b[39m.options[\u001b[33m\"\u001b[39m\u001b[33mdebug\u001b[39m\u001b[33m\"\u001b[39m])\n\u001b[32m--> \u001b[39m\u001b[32m230\u001b[39m     \u001b[38;5;28mself\u001b[39m.transport = \u001b[43mmake_transport\u001b[49m\u001b[43m(\u001b[49m\u001b[38;5;28;43mself\u001b[39;49m\u001b[43m.\u001b[49m\u001b[43moptions\u001b[49m\u001b[43m)\u001b[49m\n\u001b[32m    232\u001b[39m     \u001b[38;5;28mself\u001b[39m.monitor = \u001b[38;5;28;01mNone\u001b[39;00m\n\u001b[32m    233\u001b[39m     \u001b[38;5;28;01mif\u001b[39;00m \u001b[38;5;28mself\u001b[39m.transport:\n",
      "\u001b[36mFile \u001b[39m\u001b[32mc:\\Users\\Lenovo\\anaconda3\\envs\\yenepoya\\Lib\\site-packages\\sentry_sdk\\transport.py:594\u001b[39m, in \u001b[36mmake_transport\u001b[39m\u001b[34m(options)\u001b[39m\n\u001b[32m    591\u001b[39m \u001b[38;5;66;03m# if a transport class is given only instantiate it if the dsn is not\u001b[39;00m\n\u001b[32m    592\u001b[39m \u001b[38;5;66;03m# empty or None\u001b[39;00m\n\u001b[32m    593\u001b[39m \u001b[38;5;28;01mif\u001b[39;00m options[\u001b[33m\"\u001b[39m\u001b[33mdsn\u001b[39m\u001b[33m\"\u001b[39m]:\n\u001b[32m--> \u001b[39m\u001b[32m594\u001b[39m     \u001b[38;5;28;01mreturn\u001b[39;00m \u001b[43mtransport_cls\u001b[49m\u001b[43m(\u001b[49m\u001b[43moptions\u001b[49m\u001b[43m)\u001b[49m\n\u001b[32m    596\u001b[39m \u001b[38;5;28;01mreturn\u001b[39;00m \u001b[38;5;28;01mNone\u001b[39;00m\n",
      "\u001b[36mFile \u001b[39m\u001b[32mc:\\Users\\Lenovo\\anaconda3\\envs\\yenepoya\\Lib\\site-packages\\sentry_sdk\\transport.py:148\u001b[39m, in \u001b[36mHttpTransport.__init__\u001b[39m\u001b[34m(self, options)\u001b[39m\n\u001b[32m    142\u001b[39m \u001b[38;5;28;01mdef\u001b[39;00m \u001b[34m__init__\u001b[39m(\n\u001b[32m    143\u001b[39m     \u001b[38;5;28mself\u001b[39m, options  \u001b[38;5;66;03m# type: Dict[str, Any]\u001b[39;00m\n\u001b[32m    144\u001b[39m ):\n\u001b[32m    145\u001b[39m     \u001b[38;5;66;03m# type: (...) -> None\u001b[39;00m\n\u001b[32m    146\u001b[39m     \u001b[38;5;28;01mfrom\u001b[39;00m \u001b[34;01msentry_sdk\u001b[39;00m\u001b[34;01m.\u001b[39;00m\u001b[34;01mconsts\u001b[39;00m \u001b[38;5;28;01mimport\u001b[39;00m VERSION\n\u001b[32m--> \u001b[39m\u001b[32m148\u001b[39m     \u001b[43mTransport\u001b[49m\u001b[43m.\u001b[49m\u001b[34;43m__init__\u001b[39;49m\u001b[43m(\u001b[49m\u001b[38;5;28;43mself\u001b[39;49m\u001b[43m,\u001b[49m\u001b[43m \u001b[49m\u001b[43moptions\u001b[49m\u001b[43m)\u001b[49m\n\u001b[32m    149\u001b[39m     \u001b[38;5;28;01massert\u001b[39;00m \u001b[38;5;28mself\u001b[39m.parsed_dsn \u001b[38;5;129;01mis\u001b[39;00m \u001b[38;5;129;01mnot\u001b[39;00m \u001b[38;5;28;01mNone\u001b[39;00m\n\u001b[32m    150\u001b[39m     \u001b[38;5;28mself\u001b[39m.options = options  \u001b[38;5;66;03m# type: Dict[str, Any]\u001b[39;00m\n",
      "\u001b[36mFile \u001b[39m\u001b[32mc:\\Users\\Lenovo\\anaconda3\\envs\\yenepoya\\Lib\\site-packages\\sentry_sdk\\transport.py:58\u001b[39m, in \u001b[36mTransport.__init__\u001b[39m\u001b[34m(self, options)\u001b[39m\n\u001b[32m     56\u001b[39m \u001b[38;5;28mself\u001b[39m.options = options\n\u001b[32m     57\u001b[39m \u001b[38;5;28;01mif\u001b[39;00m options \u001b[38;5;129;01mand\u001b[39;00m options[\u001b[33m\"\u001b[39m\u001b[33mdsn\u001b[39m\u001b[33m\"\u001b[39m] \u001b[38;5;129;01mis\u001b[39;00m \u001b[38;5;129;01mnot\u001b[39;00m \u001b[38;5;28;01mNone\u001b[39;00m \u001b[38;5;129;01mand\u001b[39;00m options[\u001b[33m\"\u001b[39m\u001b[33mdsn\u001b[39m\u001b[33m\"\u001b[39m]:\n\u001b[32m---> \u001b[39m\u001b[32m58\u001b[39m     \u001b[38;5;28mself\u001b[39m.parsed_dsn = \u001b[43mDsn\u001b[49m\u001b[43m(\u001b[49m\u001b[43moptions\u001b[49m\u001b[43m[\u001b[49m\u001b[33;43m\"\u001b[39;49m\u001b[33;43mdsn\u001b[39;49m\u001b[33;43m\"\u001b[39;49m\u001b[43m]\u001b[49m\u001b[43m)\u001b[49m\n\u001b[32m     59\u001b[39m \u001b[38;5;28;01melse\u001b[39;00m:\n\u001b[32m     60\u001b[39m     \u001b[38;5;28mself\u001b[39m.parsed_dsn = \u001b[38;5;28;01mNone\u001b[39;00m\n",
      "\u001b[36mFile \u001b[39m\u001b[32mc:\\Users\\Lenovo\\anaconda3\\envs\\yenepoya\\Lib\\site-packages\\sentry_sdk\\utils.py:251\u001b[39m, in \u001b[36mDsn.__init__\u001b[39m\u001b[34m(self, value)\u001b[39m\n\u001b[32m    248\u001b[39m parts = urlparse.urlsplit(text_type(value))\n\u001b[32m    250\u001b[39m \u001b[38;5;28;01mif\u001b[39;00m parts.scheme \u001b[38;5;129;01mnot\u001b[39;00m \u001b[38;5;129;01min\u001b[39;00m (\u001b[33m\"\u001b[39m\u001b[33mhttp\u001b[39m\u001b[33m\"\u001b[39m, \u001b[33m\"\u001b[39m\u001b[33mhttps\u001b[39m\u001b[33m\"\u001b[39m):\n\u001b[32m--> \u001b[39m\u001b[32m251\u001b[39m     \u001b[38;5;28;01mraise\u001b[39;00m BadDsn(\u001b[33m\"\u001b[39m\u001b[33mUnsupported scheme \u001b[39m\u001b[38;5;132;01m%r\u001b[39;00m\u001b[33m\"\u001b[39m % parts.scheme)\n\u001b[32m    252\u001b[39m \u001b[38;5;28mself\u001b[39m.scheme = parts.scheme\n\u001b[32m    254\u001b[39m \u001b[38;5;28;01mif\u001b[39;00m parts.hostname \u001b[38;5;129;01mis\u001b[39;00m \u001b[38;5;28;01mNone\u001b[39;00m:\n",
      "\u001b[31mBadDsn\u001b[39m: Unsupported scheme ''"
     ]
    }
   ],
   "source": [
    "import sentry_sdk\n",
    "from sentry_sdk.integrations.flask import FlaskIntegration\n",
    "\n",
    "sentry_sdk.init(\n",
    "    dsn=\"YOUR_SENTRY_DSN\",\n",
    "    integrations=[FlaskIntegration()],\n",
    "    traces_sample_rate=1.0\n",
    ")\n",
    "\n",
    "@app.route('/trigger-error')\n",
    "def trigger_error():\n",
    "    raise Exception(\"Test error for Sentry\")"
   ]
  },
  {
   "cell_type": "markdown",
   "id": "de19d70c",
   "metadata": {},
   "source": [
    "### Loggly or Papertrail (Cloud Logging)"
   ]
  },
  {
   "cell_type": "code",
   "execution_count": 2,
   "id": "67285ab5",
   "metadata": {},
   "outputs": [],
   "source": [
    "from logging.handlers import SysLogHandler\n",
    "\n",
    "def setup_cloud_logging(app):\n",
    "    # For services like Papertrail\n",
    "    handler = SysLogHandler(address=('logsN.papertrailapp.com', XXXXX))\n",
    "    formatter = logging.Formatter(\n",
    "        'flask-app: %(levelname)s %(message)s'\n",
    "    )\n",
    "    handler.setFormatter(formatter)\n",
    "    app.logger.addHandler(handler)"
   ]
  },
  {
   "cell_type": "markdown",
   "id": "22b318a8",
   "metadata": {},
   "source": [
    "### 5. Complete Example"
   ]
  },
  {
   "cell_type": "code",
   "execution_count": 3,
   "id": "adec264a",
   "metadata": {},
   "outputs": [
    {
     "name": "stdout",
     "output_type": "stream",
     "text": [
      " * Serving Flask app '__main__'\n",
      " * Debug mode: on\n"
     ]
    },
    {
     "name": "stderr",
     "output_type": "stream",
     "text": [
      "WARNING: This is a development server. Do not use it in a production deployment. Use a production WSGI server instead.\n",
      " * Running on http://127.0.0.1:5000\n",
      "Press CTRL+C to quit\n",
      " * Restarting with stat\n"
     ]
    },
    {
     "ename": "SystemExit",
     "evalue": "1",
     "output_type": "error",
     "traceback": [
      "An exception has occurred, use %tb to see the full traceback.\n",
      "\u001b[31mSystemExit\u001b[39m\u001b[31m:\u001b[39m 1\n"
     ]
    },
    {
     "name": "stderr",
     "output_type": "stream",
     "text": [
      "c:\\Users\\Lenovo\\anaconda3\\envs\\yenepoya\\Lib\\site-packages\\IPython\\core\\interactiveshell.py:3707: UserWarning: To exit: use 'exit', 'quit', or Ctrl-D.\n",
      "  warn(\"To exit: use 'exit', 'quit', or Ctrl-D.\", stacklevel=1)\n"
     ]
    }
   ],
   "source": [
    "from flask import Flask, request, g, jsonify\n",
    "import logging\n",
    "from logging.handlers import RotatingFileHandler\n",
    "import os\n",
    "import time\n",
    "import json\n",
    "\n",
    "class JSONFormatter(logging.Formatter):\n",
    "    def format(self, record):\n",
    "        log_entry = {\n",
    "            'timestamp': self.formatTime(record),\n",
    "            'level': record.levelname,\n",
    "            'message': record.getMessage(),\n",
    "            'path': getattr(record, 'path', ''),\n",
    "            'method': getattr(record, 'method', ''),\n",
    "            'remote_addr': getattr(record, 'remote_addr', ''),\n",
    "            'user_id': getattr(record, 'user_id', 'anonymous')\n",
    "        }\n",
    "        return json.dumps(log_entry)\n",
    "\n",
    "def create_app():\n",
    "    app = Flask(__name__)\n",
    "    \n",
    "    # Configure logging\n",
    "    if not app.debug:\n",
    "        if not os.path.exists('logs'):\n",
    "            os.mkdir('logs')\n",
    "        \n",
    "        file_handler = RotatingFileHandler(\n",
    "            'logs/app.log', \n",
    "            maxBytes=10240000, \n",
    "            backupCount=10\n",
    "        )\n",
    "        file_handler.setFormatter(JSONFormatter())\n",
    "        file_handler.setLevel(logging.INFO)\n",
    "        app.logger.addHandler(file_handler)\n",
    "        app.logger.setLevel(logging.INFO)\n",
    "    \n",
    "    # Request logging\n",
    "    @app.before_request\n",
    "    def log_request():\n",
    "        g.start_time = time.time()\n",
    "        app.logger.info(\"Request received\", extra={\n",
    "            'path': request.path,\n",
    "            'method': request.method,\n",
    "            'remote_addr': request.remote_addr\n",
    "        })\n",
    "    \n",
    "    @app.after_request\n",
    "    def log_response(response):\n",
    "        duration = time.time() - g.start_time\n",
    "        app.logger.info(f\"Response sent - {response.status_code} ({duration:.2f}s)\")\n",
    "        return response\n",
    "    \n",
    "    # Routes\n",
    "    @app.route('/')\n",
    "    def home():\n",
    "        app.logger.info(\"Home page accessed\")\n",
    "        return jsonify({\"message\": \"Hello, World!\"})\n",
    "    \n",
    "    @app.route('/error')\n",
    "    def error():\n",
    "        app.logger.error(\"Simulated error occurred\")\n",
    "        raise Exception(\"Something went wrong!\")\n",
    "    \n",
    "    return app\n",
    "\n",
    "if __name__ == '__main__':\n",
    "    app = create_app()\n",
    "    app.run(debug=True)"
   ]
  },
  {
   "cell_type": "markdown",
   "id": "b9c97665",
   "metadata": {},
   "source": [
    "### Best Practices \n",
    "\n",
    "    Use appropriate log levels: \n",
    "        DEBUG: Detailed information for developers\n",
    "        INFO: General application flow\n",
    "        WARNING: Unexpected events that aren't errors\n",
    "        ERROR: Errors that don't crash the application\n",
    "        CRITICAL: Critical errors that may cause system failure\n",
    "         \n",
    "\n",
    "    Don't log sensitive information (passwords, credit card numbers, etc.) \n",
    "\n",
    "    Use structured logging for better parsing and analysis \n",
    "\n",
    "    Implement log rotation to prevent disk space issues \n",
    "\n",
    "    Configure different logging levels for different environments \n",
    "\n",
    "    Add context (user ID, request ID, session ID) to make logs more useful \n",
    "\n",
    "    Monitor your logs with tools like ELK stack, Splunk, or cloud logging services \n",
    "     \n",
    "\n",
    "This comprehensive approach to logging will help you build more maintainable, debuggable, and production-ready Flask applications. "
   ]
  },
  {
   "cell_type": "markdown",
   "id": "e7d6b06b",
   "metadata": {},
   "source": []
  }
 ],
 "metadata": {
  "kernelspec": {
   "display_name": "yenepoya",
   "language": "python",
   "name": "python3"
  },
  "language_info": {
   "codemirror_mode": {
    "name": "ipython",
    "version": 3
   },
   "file_extension": ".py",
   "mimetype": "text/x-python",
   "name": "python",
   "nbconvert_exporter": "python",
   "pygments_lexer": "ipython3",
   "version": "3.11.13"
  }
 },
 "nbformat": 4,
 "nbformat_minor": 5
}
