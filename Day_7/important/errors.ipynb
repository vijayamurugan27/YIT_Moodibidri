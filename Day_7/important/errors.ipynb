{
 "cells": [
  {
   "cell_type": "code",
   "execution_count": 1,
   "id": "dceffce4",
   "metadata": {},
   "outputs": [
    {
     "name": "stdout",
     "output_type": "stream",
     "text": [
      "hello world\n"
     ]
    }
   ],
   "source": [
    "print(\"hello world\")"
   ]
  },
  {
   "cell_type": "markdown",
   "id": "8f9f24ea",
   "metadata": {},
   "source": [
    "# Flask Error Handling and Debugging Notebook"
   ]
  },
  {
   "cell_type": "code",
   "execution_count": 3,
   "id": "1f9ceffa",
   "metadata": {},
   "outputs": [],
   "source": [
    "# Run this cell first to install required packages (if needed)\n",
    "# !pip install flask flask-debugtoolbar"
   ]
  },
  {
   "cell_type": "markdown",
   "id": "218ef223",
   "metadata": {},
   "source": [
    "1. Introduction to Flask Error Handling\n",
    "\n",
    "This notebook covers comprehensive error handling and debugging techniques for Flask applications.\n"
   ]
  },
  {
   "cell_type": "markdown",
   "id": "949459d4",
   "metadata": {},
   "source": [
    "2. Common Types of Errors in Flask\n",
    "\n",
    "\n",
    "2.1 HTTP Status Code Errors"
   ]
  },
  {
   "cell_type": "code",
   "execution_count": 4,
   "id": "2ea5058a",
   "metadata": {},
   "outputs": [
    {
     "data": {
      "text/markdown": [
       "### Common HTTP Errors"
      ],
      "text/plain": [
       "<IPython.core.display.Markdown object>"
      ]
     },
     "metadata": {},
     "output_type": "display_data"
    },
    {
     "data": {
      "text/markdown": [
       "\n",
       "| Code | Name | Description |\n",
       "|------|------|-------------|\n",
       "| 400 | Bad Request | Invalid client request |\n",
       "| 401 | Unauthorized | Authentication required |\n",
       "| 403 | Forbidden | Server refuses action |\n",
       "| 404 | Not Found | Resource doesn't exist |\n",
       "| 405 | Method Not Allowed | Wrong HTTP method |\n",
       "| 500 | Internal Server Error | Server-side error |\n",
       "| 502 | Bad Gateway | Invalid response from upstream |\n",
       "| 503 | Service Unavailable | Server overloaded/maintenance |\n"
      ],
      "text/plain": [
       "<IPython.core.display.Markdown object>"
      ]
     },
     "metadata": {},
     "output_type": "display_data"
    }
   ],
   "source": [
    "from IPython.display import Markdown\n",
    "\n",
    "http_errors = \"\"\"\n",
    "| Code | Name | Description |\n",
    "|------|------|-------------|\n",
    "| 400 | Bad Request | Invalid client request |\n",
    "| 401 | Unauthorized | Authentication required |\n",
    "| 403 | Forbidden | Server refuses action |\n",
    "| 404 | Not Found | Resource doesn't exist |\n",
    "| 405 | Method Not Allowed | Wrong HTTP method |\n",
    "| 500 | Internal Server Error | Server-side error |\n",
    "| 502 | Bad Gateway | Invalid response from upstream |\n",
    "| 503 | Service Unavailable | Server overloaded/maintenance |\n",
    "\"\"\"\n",
    "\n",
    "display(Markdown(\"### Common HTTP Errors\"))\n",
    "display(Markdown(http_errors))"
   ]
  },
  {
   "cell_type": "markdown",
   "id": "82234d18",
   "metadata": {},
   "source": [
    "## 2.2 Python Runtime Errors"
   ]
  },
  {
   "cell_type": "code",
   "execution_count": 5,
   "id": "c224e7d4",
   "metadata": {},
   "outputs": [
    {
     "data": {
      "text/markdown": [
       "### Common Python Exceptions"
      ],
      "text/plain": [
       "<IPython.core.display.Markdown object>"
      ]
     },
     "metadata": {},
     "output_type": "display_data"
    },
    {
     "data": {
      "text/markdown": [
       "\n",
       "| Exception | Description |\n",
       "|-----------|-------------|\n",
       "| TypeError | Wrong data type operation |\n",
       "| ValueError | Invalid value |\n",
       "| KeyError | Missing dictionary key |\n",
       "| AttributeError | Missing object attribute |\n",
       "| IndexError | List index out of range |\n",
       "| NameError | Undefined variable |\n",
       "| ImportError | Failed module import |\n",
       "| ZeroDivisionError | Division by zero |\n"
      ],
      "text/plain": [
       "<IPython.core.display.Markdown object>"
      ]
     },
     "metadata": {},
     "output_type": "display_data"
    }
   ],
   "source": [
    "python_errors = \"\"\"\n",
    "| Exception | Description |\n",
    "|-----------|-------------|\n",
    "| TypeError | Wrong data type operation |\n",
    "| ValueError | Invalid value |\n",
    "| KeyError | Missing dictionary key |\n",
    "| AttributeError | Missing object attribute |\n",
    "| IndexError | List index out of range |\n",
    "| NameError | Undefined variable |\n",
    "| ImportError | Failed module import |\n",
    "| ZeroDivisionError | Division by zero |\n",
    "\"\"\"\n",
    "\n",
    "display(Markdown(\"### Common Python Exceptions\"))\n",
    "display(Markdown(python_errors))"
   ]
  },
  {
   "cell_type": "markdown",
   "id": "cba074ed",
   "metadata": {},
   "source": [
    "### Flask-Specific Errors"
   ]
  },
  {
   "cell_type": "markdown",
   "id": "db5950d7",
   "metadata": {},
   "source": [
    "# Flask Common Issues\n",
    "\n",
    "404 - Route not found\n",
    "\n",
    "405 - Method not allowed for route\n",
    "\n",
    "400 - Bad request (form validation)\n",
    "\n",
    "500 - Template rendering errors\n",
    "\n",
    "500 - Database connection issues"
   ]
  },
  {
   "cell_type": "markdown",
   "id": "bcc978ee",
   "metadata": {},
   "source": []
  },
  {
   "cell_type": "markdown",
   "id": "66b8b914",
   "metadata": {},
   "source": [
    "### 3. Flask Application Setup with Debugging\n",
    "\n",
    "### 3.1 Basic Flask App with Debug Configuration"
   ]
  },
  {
   "cell_type": "code",
   "execution_count": 6,
   "id": "8d6a45dd",
   "metadata": {},
   "outputs": [
    {
     "name": "stdout",
     "output_type": "stream",
     "text": [
      "Flask app configured with debug mode enabled\n"
     ]
    }
   ],
   "source": [
    "from flask import Flask, render_template, request, jsonify\n",
    "import logging\n",
    "from werkzeug.exceptions import HTTPException\n",
    "import os\n",
    "\n",
    "# Create Flask application\n",
    "app = Flask(__name__)\n",
    "\n",
    "# Configuration\n",
    "class Config:\n",
    "    SECRET_KEY = 'dev-key-123'\n",
    "    DEBUG = True\n",
    "    TESTING = True\n",
    "\n",
    "app.config.from_object(Config)\n",
    "\n",
    "# Setup logging\n",
    "logging.basicConfig(\n",
    "    level=logging.DEBUG,\n",
    "    format='%(asctime)s - %(name)s - %(levelname)s - %(message)s'\n",
    ")\n",
    "\n",
    "print(\"Flask app configured with debug mode enabled\")"
   ]
  },
  {
   "cell_type": "markdown",
   "id": "659ae424",
   "metadata": {},
   "source": [
    "### 3.2 Development vs Production Configuration"
   ]
  },
  {
   "cell_type": "code",
   "execution_count": 7,
   "id": "57aeb282",
   "metadata": {},
   "outputs": [
    {
     "data": {
      "text/markdown": [
       "### Configuration Differences"
      ],
      "text/plain": [
       "<IPython.core.display.Markdown object>"
      ]
     },
     "metadata": {},
     "output_type": "display_data"
    },
    {
     "data": {
      "text/markdown": [
       "\n",
       "| Setting | Development | Production |\n",
       "|---------|-------------|------------|\n",
       "| DEBUG | True | False |\n",
       "| TESTING | True | False |\n",
       "| ENV | 'development' | 'production' |\n",
       "| Secret Key | Simple string | Environment variable |\n",
       "| Error Display | Detailed debugger | User-friendly pages |\n"
      ],
      "text/plain": [
       "<IPython.core.display.Markdown object>"
      ]
     },
     "metadata": {},
     "output_type": "display_data"
    }
   ],
   "source": [
    "display(Markdown(\"### Configuration Differences\"))\n",
    "\n",
    "config_table = \"\"\"\n",
    "| Setting | Development | Production |\n",
    "|---------|-------------|------------|\n",
    "| DEBUG | True | False |\n",
    "| TESTING | True | False |\n",
    "| ENV | 'development' | 'production' |\n",
    "| Secret Key | Simple string | Environment variable |\n",
    "| Error Display | Detailed debugger | User-friendly pages |\n",
    "\"\"\"\n",
    "\n",
    "display(Markdown(config_table))"
   ]
  },
  {
   "cell_type": "markdown",
   "id": "cb506dd5",
   "metadata": {},
   "source": [
    "### 4. Custom Error Handlers\n",
    "### 4.1 Basic Error Handler Implementation"
   ]
  },
  {
   "cell_type": "code",
   "execution_count": 8,
   "id": "f02171db",
   "metadata": {},
   "outputs": [
    {
     "name": "stdout",
     "output_type": "stream",
     "text": [
      "Custom error handlers registered\n"
     ]
    }
   ],
   "source": [
    "# Custom exception class\n",
    "class CustomError(Exception):\n",
    "    def __init__(self, message, status_code=400):\n",
    "        super().__init__()\n",
    "        self.message = message\n",
    "        self.status_code = status_code\n",
    "\n",
    "# Error handlers\n",
    "@app.errorhandler(404)\n",
    "def not_found_error(error):\n",
    "    if request.accept_mimetypes.accept_json and not request.accept_mimetypes.accept_html:\n",
    "        return jsonify({'error': 'Resource not found'}), 404\n",
    "    return \"<h1>404 - Page Not Found</h1><p>The page you're looking for doesn't exist.</p>\", 404\n",
    "\n",
    "@app.errorhandler(500)\n",
    "def internal_error(error):\n",
    "    app.logger.error(f'500 Error: {error}')\n",
    "    if request.accept_mimetypes.accept_json and not request.accept_mimetypes.accept_html:\n",
    "        return jsonify({'error': 'Internal server error'}), 500\n",
    "    return \"<h1>500 - Internal Server Error</h1><p>Something went wrong on our end.</p>\", 500\n",
    "\n",
    "@app.errorhandler(CustomError)\n",
    "def handle_custom_error(error):\n",
    "    response = jsonify({\n",
    "        'error': error.message,\n",
    "        'status_code': error.status_code\n",
    "    })\n",
    "    response.status_code = error.status_code\n",
    "    return response\n",
    "\n",
    "@app.errorhandler(Exception)\n",
    "def handle_generic_error(error):\n",
    "    app.logger.error(f'Unhandled exception: {error}')\n",
    "    if isinstance(error, HTTPException):\n",
    "        return error\n",
    "    \n",
    "    return jsonify({\n",
    "        'error': 'An unexpected error occurred',\n",
    "        'message': str(error)\n",
    "    }), 500\n",
    "\n",
    "print(\"Custom error handlers registered\")"
   ]
  },
  {
   "cell_type": "markdown",
   "id": "68fcab3e",
   "metadata": {},
   "source": [
    "### 4.2 Testing Error Handlers"
   ]
  },
  {
   "cell_type": "code",
   "execution_count": 9,
   "id": "e614b7fd",
   "metadata": {},
   "outputs": [
    {
     "name": "stdout",
     "output_type": "stream",
     "text": [
      "Test routes defined\n"
     ]
    }
   ],
   "source": [
    "# Routes to test error handling\n",
    "@app.route('/')\n",
    "def index():\n",
    "    return \"<h1>Welcome to Flask Error Handling Demo</h1><ul>\" \\\n",
    "           \"<li><a href='/divide/10/2'>Working division</a></li>\" \\\n",
    "           \"<li><a href='/divide/10/0'>Division by zero</a></li>\" \\\n",
    "           \"<li><a href='/nonexistent'>404 page</a></li>\" \\\n",
    "           \"<li><a href='/server-error'>500 error</a></li>\" \\\n",
    "           \"</ul>\"\n",
    "\n",
    "@app.route('/divide/<int:a>/<int:b>')\n",
    "def divide_numbers(a, b):\n",
    "    \"\"\"Example route with error handling\"\"\"\n",
    "    try:\n",
    "        if b == 0:\n",
    "            raise CustomError(\"Division by zero is not allowed\", 400)\n",
    "        \n",
    "        result = a / b\n",
    "        return jsonify({\n",
    "            'operation': f'{a} / {b}',\n",
    "            'result': result,\n",
    "            'status': 'success'\n",
    "        })\n",
    "    \n",
    "    except CustomError:\n",
    "        raise  # Re-raise custom errors\n",
    "    except Exception as e:\n",
    "        app.logger.error(f\"Unexpected error in division: {e}\")\n",
    "        raise CustomError(\"An error occurred during division\", 500)\n",
    "\n",
    "@app.route('/server-error')\n",
    "def cause_server_error():\n",
    "    \"\"\"Route that intentionally causes a server error\"\"\"\n",
    "    # This will raise a NameError\n",
    "    return undefined_variable  # This variable doesn't exist\n",
    "\n",
    "@app.route('/user/<user_id>')\n",
    "def get_user(user_id):\n",
    "    \"\"\"Route with custom error for missing users\"\"\"\n",
    "    users = {\n",
    "        '1': {'name': 'John Doe', 'email': 'john@example.com'},\n",
    "        '2': {'name': 'Jane Smith', 'email': 'jane@example.com'}\n",
    "    }\n",
    "    \n",
    "    if user_id not in users:\n",
    "        raise CustomError(\"User not found\", 404)\n",
    "    \n",
    "    return jsonify(users[user_id])\n",
    "\n",
    "print(\"Test routes defined\")"
   ]
  },
  {
   "cell_type": "markdown",
   "id": "0727bbcf",
   "metadata": {},
   "source": [
    "### 5. Debugging Techniques\n",
    "\n",
    "\n",
    "### 5.1 Using Flask Debug Toolbar"
   ]
  },
  {
   "cell_type": "code",
   "execution_count": 10,
   "id": "50d80942",
   "metadata": {},
   "outputs": [
    {
     "data": {
      "text/plain": [
       "'\\nfrom flask_debugtoolbar import DebugToolbarExtension\\n\\napp.config[\\'DEBUG_TB_ENABLED\\'] = True\\napp.config[\\'DEBUG_TB_INTERCEPT_REDIRECTS\\'] = False\\ntoolbar = DebugToolbarExtension(app)\\nprint(\"Flask Debug Toolbar enabled\")\\n'"
      ]
     },
     "execution_count": 10,
     "metadata": {},
     "output_type": "execute_result"
    }
   ],
   "source": [
    "# Uncomment to use Flask Debug Toolbar\n",
    "\"\"\"\n",
    "from flask_debugtoolbar import DebugToolbarExtension\n",
    "\n",
    "app.config['DEBUG_TB_ENABLED'] = True\n",
    "app.config['DEBUG_TB_INTERCEPT_REDIRECTS'] = False\n",
    "toolbar = DebugToolbarExtension(app)\n",
    "print(\"Flask Debug Toolbar enabled\")\n",
    "\"\"\""
   ]
  },
  {
   "cell_type": "markdown",
   "id": "a6741871",
   "metadata": {},
   "source": [
    "### 5.2 Strategic Logging Setup"
   ]
  },
  {
   "cell_type": "code",
   "execution_count": 11,
   "id": "2a31e9ec",
   "metadata": {},
   "outputs": [
    {
     "name": "stdout",
     "output_type": "stream",
     "text": [
      "Advanced logging setup complete\n"
     ]
    }
   ],
   "source": [
    "def setup_advanced_logging():\n",
    "    \"\"\"Setup comprehensive logging configuration\"\"\"\n",
    "    \n",
    "    # Create logger\n",
    "    logger = logging.getLogger('flask_app')\n",
    "    logger.setLevel(logging.DEBUG)\n",
    "    \n",
    "    # Create formatters\n",
    "    detailed_formatter = logging.Formatter(\n",
    "        '%(asctime)s - %(name)s - %(levelname)s - %(filename)s:%(lineno)d - %(message)s'\n",
    "    )\n",
    "    \n",
    "    simple_formatter = logging.Formatter(\n",
    "        '%(levelname)s - %(message)s'\n",
    "    )\n",
    "    \n",
    "    # Console handler\n",
    "    console_handler = logging.StreamHandler()\n",
    "    console_handler.setLevel(logging.INFO)\n",
    "    console_handler.setFormatter(simple_formatter)\n",
    "    \n",
    "    # File handler\n",
    "    file_handler = logging.FileHandler('flask_errors.log')\n",
    "    file_handler.setLevel(logging.DEBUG)\n",
    "    file_handler.setFormatter(detailed_formatter)\n",
    "    \n",
    "    # Add handlers\n",
    "    logger.addHandler(console_handler)\n",
    "    logger.addHandler(file_handler)\n",
    "    \n",
    "    return logger\n",
    "\n",
    "# Initialize advanced logging\n",
    "app_logger = setup_advanced_logging()\n",
    "app.logger = app_logger\n",
    "\n",
    "print(\"Advanced logging setup complete\")"
   ]
  },
  {
   "cell_type": "markdown",
   "id": "6bcc8f79",
   "metadata": {},
   "source": [
    "### 5.3 Debugging with pdb"
   ]
  },
  {
   "cell_type": "code",
   "execution_count": 12,
   "id": "fd615487",
   "metadata": {},
   "outputs": [
    {
     "name": "stdout",
     "output_type": "stream",
     "text": [
      "Debugging demo routes defined\n"
     ]
    }
   ],
   "source": [
    "import pdb\n",
    "\n",
    "@app.route('/debug-demo')\n",
    "def debug_demo():\n",
    "    \"\"\"Route demonstrating debugging with pdb\"\"\"\n",
    "    app.logger.info(\"Debug demo route accessed\")\n",
    "    \n",
    "    data = {\n",
    "        'items': ['apple', 'banana', 'cherry'],\n",
    "        'count': 3,\n",
    "        'status': 'processing'\n",
    "    }\n",
    "    \n",
    "    # Uncomment to activate debugger\n",
    "    # pdb.set_trace()  # Program will pause here\n",
    "    \n",
    "    # Simulate some processing\n",
    "    try:\n",
    "        result = process_data(data)\n",
    "        return jsonify({'result': result, 'status': 'success'})\n",
    "    except Exception as e:\n",
    "        app.logger.error(f\"Error in debug demo: {e}\")\n",
    "        return jsonify({'error': str(e)}), 500\n",
    "\n",
    "def process_data(data):\n",
    "    \"\"\"Helper function to demonstrate debugging\"\"\"\n",
    "    # This function can be examined in debugger\n",
    "    total_length = sum(len(item) for item in data['items'])\n",
    "    processed = {\n",
    "        'total_chars': total_length,\n",
    "        'item_count': data['count'],\n",
    "        'first_item': data['items'][0] if data['items'] else None\n",
    "    }\n",
    "    return processed\n",
    "\n",
    "print(\"Debugging demo routes defined\")"
   ]
  },
  {
   "cell_type": "markdown",
   "id": "8ba85c8c",
   "metadata": {},
   "source": [
    "### 6. Interactive Testing Section\n",
    "### 6.1 Test the Application"
   ]
  },
  {
   "cell_type": "code",
   "execution_count": 13,
   "id": "6fe782b0",
   "metadata": {},
   "outputs": [
    {
     "data": {
      "text/markdown": [
       "### Testing Error Handling"
      ],
      "text/plain": [
       "<IPython.core.display.Markdown object>"
      ]
     },
     "metadata": {},
     "output_type": "display_data"
    },
    {
     "name": "stdout",
     "output_type": "stream",
     "text": [
      "Successful division: Status 200\n",
      "Response: {'operation': '10 / 2', 'result': 5.0, 'status': 'success'}\n",
      "\n",
      "Division by zero: Status 400\n",
      "Response: {'error': 'Division by zero is not allowed', 'status_code': 400}\n",
      "\n",
      "Non-existent page: Status 404\n",
      "\n",
      "Existing user: Status 200\n",
      "Response: {'email': 'john@example.com', 'name': 'John Doe'}\n",
      "\n",
      "Non-existing user: Status 404\n",
      "Response: {'error': 'User not found', 'status_code': 404}\n"
     ]
    }
   ],
   "source": [
    "# This cell creates a test client to demonstrate error handling\n",
    "with app.test_client() as client:\n",
    "    display(Markdown(\"### Testing Error Handling\"))\n",
    "    \n",
    "    # Test successful request\n",
    "    response1 = client.get('/divide/10/2')\n",
    "    print(f\"Successful division: Status {response1.status_code}\")\n",
    "    print(f\"Response: {response1.get_json()}\")\n",
    "    print()\n",
    "    \n",
    "    # Test division by zero\n",
    "    response2 = client.get('/divide/10/0')\n",
    "    print(f\"Division by zero: Status {response2.status_code}\")\n",
    "    print(f\"Response: {response2.get_json()}\")\n",
    "    print()\n",
    "    \n",
    "    # Test 404 error\n",
    "    response3 = client.get('/nonexistent-page')\n",
    "    print(f\"Non-existent page: Status {response3.status_code}\")\n",
    "    print()\n",
    "    \n",
    "    # Test user lookup - existing user\n",
    "    response4 = client.get('/user/1')\n",
    "    print(f\"Existing user: Status {response4.status_code}\")\n",
    "    print(f\"Response: {response4.get_json()}\")\n",
    "    print()\n",
    "    \n",
    "    # Test user lookup - non-existing user\n",
    "    response5 = client.get('/user/999')\n",
    "    print(f\"Non-existing user: Status {response5.status_code}\")\n",
    "    print(f\"Response: {response5.get_json()}\")"
   ]
  },
  {
   "cell_type": "markdown",
   "id": "953f898a",
   "metadata": {},
   "source": [
    "### 6.2 Testing Server Errors"
   ]
  },
  {
   "cell_type": "code",
   "execution_count": 14,
   "id": "d9f8b9c6",
   "metadata": {},
   "outputs": [
    {
     "data": {
      "text/markdown": [
       "### Testing Server Errors"
      ],
      "text/plain": [
       "<IPython.core.display.Markdown object>"
      ]
     },
     "metadata": {},
     "output_type": "display_data"
    },
    {
     "name": "stderr",
     "output_type": "stream",
     "text": [
      "ERROR - Unhandled exception: name 'undefined_variable' is not defined\n",
      "2025-10-05 23:39:40,952 - flask_app - ERROR - Unhandled exception: name 'undefined_variable' is not defined\n"
     ]
    },
    {
     "name": "stdout",
     "output_type": "stream",
     "text": [
      "Server error route: Status 500\n",
      "Response: {\n",
      "  \"error\": \"An unexpected error occurred\",\n",
      "  \"message\": \"name 'undefined_variable' is not defined\"\n",
      "}\n",
      "\n"
     ]
    }
   ],
   "source": [
    "# Test server error (this will log an error but won't crash the notebook)\n",
    "with app.test_client() as client:\n",
    "    display(Markdown(\"### Testing Server Errors\"))\n",
    "    \n",
    "    try:\n",
    "        response = client.get('/server-error')\n",
    "        print(f\"Server error route: Status {response.status_code}\")\n",
    "        print(f\"Response: {response.get_data(as_text=True)}\")\n",
    "    except Exception as e:\n",
    "        print(f\"Exception caught: {e}\")"
   ]
  },
  {
   "cell_type": "markdown",
   "id": "f654cdf4",
   "metadata": {},
   "source": [
    "### 7. Advanced Error Handling Patterns\n",
    "### 7.1 Contextual Error Handling"
   ]
  },
  {
   "cell_type": "code",
   "execution_count": 15,
   "id": "dd20de38",
   "metadata": {},
   "outputs": [
    {
     "ename": "AssertionError",
     "evalue": "The setup method 'route' can no longer be called on the application. It has already handled its first request, any changes will not be applied consistently.\nMake sure all imports, decorators, functions, etc. needed to set up the application are done before running it.",
     "output_type": "error",
     "traceback": [
      "\u001b[31m---------------------------------------------------------------------------\u001b[39m",
      "\u001b[31mAssertionError\u001b[39m                            Traceback (most recent call last)",
      "\u001b[36mCell\u001b[39m\u001b[36m \u001b[39m\u001b[32mIn[15]\u001b[39m\u001b[32m, line 14\u001b[39m\n\u001b[32m     11\u001b[39m         app.logger.error(\u001b[33mf\u001b[39m\u001b[33m\"\u001b[39m\u001b[33mDatabase operation failed: \u001b[39m\u001b[38;5;132;01m{\u001b[39;00me\u001b[38;5;132;01m}\u001b[39;00m\u001b[33m\"\u001b[39m)\n\u001b[32m     12\u001b[39m         \u001b[38;5;28;01mraise\u001b[39;00m CustomError(\u001b[33m\"\u001b[39m\u001b[33mDatabase operation failed\u001b[39m\u001b[33m\"\u001b[39m, \u001b[32m500\u001b[39m)\n\u001b[32m---> \u001b[39m\u001b[32m14\u001b[39m \u001b[38;5;129m@app\u001b[39m\u001b[43m.\u001b[49m\u001b[43mroute\u001b[49m\u001b[43m(\u001b[49m\u001b[33;43m'\u001b[39;49m\u001b[33;43m/api/data\u001b[39;49m\u001b[33;43m'\u001b[39;49m\u001b[43m)\u001b[49m\n\u001b[32m     15\u001b[39m \u001b[38;5;28;01mdef\u001b[39;00m \u001b[34mget_data_with_context\u001b[39m():\n\u001b[32m     16\u001b[39m \u001b[38;5;250m    \u001b[39m\u001b[33;03m\"\"\"Route using context manager for error handling\"\"\"\u001b[39;00m\n\u001b[32m     17\u001b[39m     \u001b[38;5;28;01mwith\u001b[39;00m database_operation() \u001b[38;5;28;01mas\u001b[39;00m db:\n\u001b[32m     18\u001b[39m         \u001b[38;5;66;03m# Simulate database operations\u001b[39;00m\n",
      "\u001b[36mFile \u001b[39m\u001b[32mc:\\Users\\Lenovo\\anaconda3\\envs\\yenepoya\\Lib\\site-packages\\flask\\scaffold.py:49\u001b[39m, in \u001b[36msetupmethod.<locals>.wrapper_func\u001b[39m\u001b[34m(self, *args, **kwargs)\u001b[39m\n\u001b[32m     48\u001b[39m \u001b[38;5;28;01mdef\u001b[39;00m \u001b[34mwrapper_func\u001b[39m(\u001b[38;5;28mself\u001b[39m, *args: t.Any, **kwargs: t.Any) -> t.Any:\n\u001b[32m---> \u001b[39m\u001b[32m49\u001b[39m     \u001b[38;5;28;43mself\u001b[39;49m\u001b[43m.\u001b[49m\u001b[43m_check_setup_finished\u001b[49m\u001b[43m(\u001b[49m\u001b[43mf_name\u001b[49m\u001b[43m)\u001b[49m\n\u001b[32m     50\u001b[39m     \u001b[38;5;28;01mreturn\u001b[39;00m f(\u001b[38;5;28mself\u001b[39m, *args, **kwargs)\n",
      "\u001b[36mFile \u001b[39m\u001b[32mc:\\Users\\Lenovo\\anaconda3\\envs\\yenepoya\\Lib\\site-packages\\flask\\app.py:511\u001b[39m, in \u001b[36mFlask._check_setup_finished\u001b[39m\u001b[34m(self, f_name)\u001b[39m\n\u001b[32m    509\u001b[39m \u001b[38;5;28;01mdef\u001b[39;00m \u001b[34m_check_setup_finished\u001b[39m(\u001b[38;5;28mself\u001b[39m, f_name: \u001b[38;5;28mstr\u001b[39m) -> \u001b[38;5;28;01mNone\u001b[39;00m:\n\u001b[32m    510\u001b[39m     \u001b[38;5;28;01mif\u001b[39;00m \u001b[38;5;28mself\u001b[39m._got_first_request:\n\u001b[32m--> \u001b[39m\u001b[32m511\u001b[39m         \u001b[38;5;28;01mraise\u001b[39;00m \u001b[38;5;167;01mAssertionError\u001b[39;00m(\n\u001b[32m    512\u001b[39m             \u001b[33mf\u001b[39m\u001b[33m\"\u001b[39m\u001b[33mThe setup method \u001b[39m\u001b[33m'\u001b[39m\u001b[38;5;132;01m{\u001b[39;00mf_name\u001b[38;5;132;01m}\u001b[39;00m\u001b[33m'\u001b[39m\u001b[33m can no longer be called\u001b[39m\u001b[33m\"\u001b[39m\n\u001b[32m    513\u001b[39m             \u001b[33m\"\u001b[39m\u001b[33m on the application. It has already handled its first\u001b[39m\u001b[33m\"\u001b[39m\n\u001b[32m    514\u001b[39m             \u001b[33m\"\u001b[39m\u001b[33m request, any changes will not be applied\u001b[39m\u001b[33m\"\u001b[39m\n\u001b[32m    515\u001b[39m             \u001b[33m\"\u001b[39m\u001b[33m consistently.\u001b[39m\u001b[38;5;130;01m\\n\u001b[39;00m\u001b[33m\"\u001b[39m\n\u001b[32m    516\u001b[39m             \u001b[33m\"\u001b[39m\u001b[33mMake sure all imports, decorators, functions, etc.\u001b[39m\u001b[33m\"\u001b[39m\n\u001b[32m    517\u001b[39m             \u001b[33m\"\u001b[39m\u001b[33m needed to set up the application are done before\u001b[39m\u001b[33m\"\u001b[39m\n\u001b[32m    518\u001b[39m             \u001b[33m\"\u001b[39m\u001b[33m running it.\u001b[39m\u001b[33m\"\u001b[39m\n\u001b[32m    519\u001b[39m         )\n",
      "\u001b[31mAssertionError\u001b[39m: The setup method 'route' can no longer be called on the application. It has already handled its first request, any changes will not be applied consistently.\nMake sure all imports, decorators, functions, etc. needed to set up the application are done before running it."
     ]
    }
   ],
   "source": [
    "from contextlib import contextmanager\n",
    "\n",
    "@contextmanager\n",
    "def database_operation():\n",
    "    \"\"\"Context manager for database operations with error handling\"\"\"\n",
    "    try:\n",
    "        app.logger.info(\"Starting database operation\")\n",
    "        yield \"mock_database_connection\"\n",
    "        app.logger.info(\"Database operation completed successfully\")\n",
    "    except Exception as e:\n",
    "        app.logger.error(f\"Database operation failed: {e}\")\n",
    "        raise CustomError(\"Database operation failed\", 500)\n",
    "\n",
    "@app.route('/api/data')\n",
    "def get_data_with_context():\n",
    "    \"\"\"Route using context manager for error handling\"\"\"\n",
    "    with database_operation() as db:\n",
    "        # Simulate database operations\n",
    "        data = simulate_database_query(db)\n",
    "        return jsonify({'data': data, 'status': 'success'})\n",
    "\n",
    "def simulate_database_query(db_connection):\n",
    "    \"\"\"Simulate database query that might fail\"\"\"\n",
    "    # Simulate random failure for demonstration\n",
    "    import random\n",
    "    if random.random() < 0.3:  # 30% chance of failure\n",
    "        raise ConnectionError(\"Database connection lost\")\n",
    "    return {'users': [{'id': 1, 'name': 'Test User'}]}\n",
    "\n",
    "print(\"Advanced error handling patterns defined\")"
   ]
  },
  {
   "cell_type": "markdown",
   "id": "d0c88290",
   "metadata": {},
   "source": [
    "### 7.2 Error Recovery and Fallbacks"
   ]
  },
  {
   "cell_type": "code",
   "execution_count": null,
   "id": "5796c364",
   "metadata": {},
   "outputs": [],
   "source": [
    "class FallbackManager:\n",
    "    \"\"\"Manager for handling fallback scenarios\"\"\"\n",
    "    \n",
    "    def __init__(self):\n",
    "        self.cache = {}\n",
    "    \n",
    "    def get_with_fallback(self, key, primary_func, fallback_func):\n",
    "        \"\"\"Try primary function, fallback if it fails\"\"\"\n",
    "        try:\n",
    "            result = primary_func()\n",
    "            self.cache[key] = result  # Cache successful result\n",
    "            app.logger.info(f\"Primary method successful for {key}\")\n",
    "            return result\n",
    "        except Exception as e:\n",
    "            app.logger.warning(f\"Primary method failed for {key}, using fallback: {e}\")\n",
    "            # Try to return cached data or use fallback\n",
    "            if key in self.cache:\n",
    "                app.logger.info(f\"Returning cached data for {key}\")\n",
    "                return self.cache[key]\n",
    "            return fallback_func()\n",
    "\n",
    "fallback_manager = FallbackManager()\n",
    "\n",
    "@app.route('/reliable-data')\n",
    "def get_reliable_data():\n",
    "    \"\"\"Route demonstrating fallback pattern\"\"\"\n",
    "    \n",
    "    def primary_data_source():\n",
    "        # Simulate unreliable external service\n",
    "        import random\n",
    "        if random.random() < 0.4:  # 40% failure rate\n",
    "            raise ConnectionError(\"External service unavailable\")\n",
    "        return {'source': 'primary', 'data': 'fresh_data'}\n",
    "    \n",
    "    def fallback_data_source():\n",
    "        return {'source': 'fallback', 'data': 'cached_data', 'note': 'Service degraded'}\n",
    "    \n",
    "    result = fallback_manager.get_with_fallback(\n",
    "        'reliable_data',\n",
    "        primary_data_source,\n",
    "        fallback_data_source\n",
    "    )\n",
    "    \n",
    "    return jsonify(result)\n",
    "\n",
    "print(\"Error recovery patterns implemented\")"
   ]
  },
  {
   "cell_type": "markdown",
   "id": "327079ad",
   "metadata": {},
   "source": [
    "### 8. Running the Application\n",
    "### 8.1 Start the Flask Development Server"
   ]
  },
  {
   "cell_type": "code",
   "execution_count": 16,
   "id": "c254e272",
   "metadata": {},
   "outputs": [
    {
     "data": {
      "text/markdown": [
       "### Starting Flask Development Server"
      ],
      "text/plain": [
       "<IPython.core.display.Markdown object>"
      ]
     },
     "metadata": {},
     "output_type": "display_data"
    },
    {
     "name": "stdout",
     "output_type": "stream",
     "text": [
      "To run this Flask application outside of Jupyter:\n",
      "1. Save the code as a .py file\n",
      "2. Run: python your_file.py\n",
      "3. Access http://localhost:5000 in your browser\n"
     ]
    }
   ],
   "source": [
    "display(Markdown(\"### Starting Flask Development Server\"))\n",
    "\n",
    "# Note: In Jupyter, we can't run the server in the normal way, but we can demonstrate the code\n",
    "server_code = \"\"\"\n",
    "if __name__ == '__main__':\n",
    "    print(\"Starting Flask development server...\")\n",
    "    print(\"Access the application at: http://localhost:5000\")\n",
    "    print(\"Debug mode is enabled - errors will show detailed tracebacks\")\n",
    "    print(\"Press Ctrl+C to stop the server\")\n",
    "    \n",
    "    app.run(\n",
    "        host='0.0.0.0',\n",
    "        port=5000,\n",
    "        debug=True,\n",
    "        use_reloader=True\n",
    "    )\n",
    "\"\"\"\n",
    "\n",
    "print(\"To run this Flask application outside of Jupyter:\")\n",
    "print(\"1. Save the code as a .py file\")\n",
    "print(\"2. Run: python your_file.py\")\n",
    "print(\"3. Access http://localhost:5000 in your browser\")"
   ]
  },
  {
   "cell_type": "markdown",
   "id": "e1fbb37f",
   "metadata": {},
   "source": [
    "### 8.2 Production Deployment Notes"
   ]
  },
  {
   "cell_type": "markdown",
   "id": "57d112a6",
   "metadata": {},
   "source": [
    "display(Markdown(\"### Production Deployment Checklist\"))\n",
    "\n",
    "checklist = \"\"\"\n",
    "- [ ] Set `DEBUG = False`\n",
    "- [ ] Set `ENV = 'production'`\n",
    "- [ ] Use environment variables for secrets\n",
    "- [ ] Configure proper logging\n",
    "- [ ] Set up monitoring/alerting\n",
    "- [ ] Implement rate limiting\n",
    "- [ ] Use production WSGI server (Gunicorn, uWSGI)\n",
    "- [ ] Configure reverse proxy (Nginx, Apache)\n",
    "- [ ] Set up SSL/TLS certificates\n",
    "- [ ] Implement backup strategies\n",
    "\"\"\"\n",
    "\n",
    "display(Markdown(checklist))"
   ]
  },
  {
   "cell_type": "markdown",
   "id": "ebbe7399",
   "metadata": {},
   "source": [
    "### 9. Summary and Best Practices"
   ]
  },
  {
   "cell_type": "markdown",
   "id": "7a0aa454",
   "metadata": {},
   "source": [
    "display(Markdown(\"### Error Handling Best Practices\"))\n",
    "\n",
    "best_practices = \"\"\"\n",
    "1. **Always use custom error pages** - Never show raw errors to users in production\n",
    "2. **Implement proper logging** - Log errors with context for debugging\n",
    "3. **Use appropriate HTTP status codes** - Help clients understand what went wrong\n",
    "4. **Handle exceptions gracefully** - Don't let uncaught exceptions crash your app\n",
    "5. **Provide meaningful error messages** - But don't expose sensitive information\n",
    "6. **Test error scenarios** - Ensure your error handling works as expected\n",
    "7. **Monitor and alert** - Set up monitoring for critical errors\n",
    "8. **Use structured logging** - Makes log analysis easier\n",
    "9. **Implement circuit breakers** - For external service dependencies\n",
    "10. **Document error responses** - Especially for API endpoints\n",
    "\"\"\"\n",
    "\n",
    "display(Markdown(best_practices))\n",
    "\n",
    "display(Markdown(\"### Debugging Tips\"))\n",
    "\n",
    "debugging_tips = \"\"\"\n",
    "1. **Use Flask's debug mode** during development\n",
    "2. **Leverage the interactive debugger** for troubleshooting\n",
    "3. **Add strategic logging** at key points in your code\n",
    "4. **Use Flask-DebugToolbar** for detailed request information\n",
    "5. **Test with different data inputs** to find edge cases\n",
    "6. **Reproduce errors consistently** before attempting fixes\n",
    "7. **Check application logs** for additional context\n",
    "8. **Use version control** to track changes when debugging\n",
    "9. **Isolate the problem** by creating minimal test cases\n",
    "10. **Ask for help** with specific, reproducible examples\n",
    "\"\"\"\n",
    "\n",
    "display(Markdown(debugging_tips))"
   ]
  },
  {
   "cell_type": "markdown",
   "id": "36cc7cca",
   "metadata": {},
   "source": [
    "#### 10. Quick Reference"
   ]
  },
  {
   "cell_type": "markdown",
   "id": "45da898e",
   "metadata": {},
   "source": [
    "display(Markdown(\"### Quick Reference Code Snippets\"))\n",
    "\n",
    "snippets = \"\"\"\n",
    "```python\n",
    "# Basic error handler\n",
    "@app.errorhandler(404)\n",
    "def not_found(error):\n",
    "    return render_template('404.html'), 404\n",
    "\n",
    "# JSON error response\n",
    "@app.errorhandler(500)\n",
    "def internal_error(error):\n",
    "    return jsonify({'error': 'Internal server error'}), 500\n",
    "\n",
    "# Custom exception\n",
    "class CustomError(Exception):\n",
    "    def __init__(self, message, status_code=400):\n",
    "        self.message = message\n",
    "        self.status_code = status_code\n",
    "\n",
    "# Logging setup\n",
    "import logging\n",
    "logging.basicConfig(level=logging.INFO)\n",
    "\n",
    "# Debug mode\n",
    "app.run(debug=True)  # Development only!"
   ]
  },
  {
   "cell_type": "markdown",
   "id": "685f383d",
   "metadata": {},
   "source": [
    "\n",
    "```python\n",
    "# Final summary\n",
    "display(Markdown(\"## 🎉 Flask Error Handling Notebook Complete!\"))\n",
    "\n",
    "summary = \"\"\"\n",
    "This notebook has covered:\n",
    "\n",
    "✅ **Common error types** in Flask applications  \n",
    "✅ **Debug configuration** for development vs production  \n",
    "✅ **Custom error handlers** for different scenarios  \n",
    "✅ **Advanced debugging techniques** and tools  \n",
    "✅ **Error recovery patterns** and fallback strategies  \n",
    "✅ **Best practices** for robust error handling  \n",
    "\n",
    "**Next Steps:**\n",
    "1. Implement these patterns in your Flask projects\n",
    "2. Customize error pages for your application\n",
    "3. Set up proper logging and monitoring\n",
    "4. Test your error handling thoroughly\n",
    "\n",
    "Remember: Good error handling makes your application more reliable and user-friendly!\n",
    "\"\"\"\n",
    "\n",
    "display(Markdown(summary))"
   ]
  },
  {
   "cell_type": "markdown",
   "id": "6b00f4e0",
   "metadata": {},
   "source": []
  }
 ],
 "metadata": {
  "kernelspec": {
   "display_name": "yenepoya",
   "language": "python",
   "name": "python3"
  },
  "language_info": {
   "codemirror_mode": {
    "name": "ipython",
    "version": 3
   },
   "file_extension": ".py",
   "mimetype": "text/x-python",
   "name": "python",
   "nbconvert_exporter": "python",
   "pygments_lexer": "ipython3",
   "version": "3.11.13"
  }
 },
 "nbformat": 4,
 "nbformat_minor": 5
}
