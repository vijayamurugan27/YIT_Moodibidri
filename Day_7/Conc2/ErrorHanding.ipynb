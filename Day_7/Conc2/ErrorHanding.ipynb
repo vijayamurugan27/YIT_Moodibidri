{
 "cells": [
  {
   "cell_type": "code",
   "execution_count": 1,
   "id": "d98f7d13",
   "metadata": {},
   "outputs": [
    {
     "name": "stdout",
     "output_type": "stream",
     "text": [
      "hello world\n"
     ]
    }
   ],
   "source": [
    "print(\"hello world\")"
   ]
  },
  {
   "cell_type": "markdown",
   "id": "1b1b29db",
   "metadata": {},
   "source": [
    "# Flask Error Handling and Debugging Guide\n",
    "\n",
    "This guide covers how to effectively debug Flask applications and implement user-friendly error handling.\n",
    "\n",
    "\n",
    "\n",
    "Table of Contents\n",
    "\n",
    "    Flask Debugger\n",
    "\n",
    "    Common Error Types\n",
    "\n",
    "    Custom Error Pages\n",
    "\n",
    "    Debugging Best Practices\n",
    "\n",
    "    Complete Example Application\n",
    "\n",
    "### Flask Debugger\n",
    "\n",
    "#### Enabling Debug Mode\n"
   ]
  },
  {
   "cell_type": "code",
   "execution_count": null,
   "id": "e08fed13",
   "metadata": {},
   "outputs": [],
   "source": [
    "from flask import Flask\n",
    "\n",
    "app = Flask(__name__)\n",
    "app.debug = True  # Enable debug mode\n",
    "# OR\n",
    "app.run(debug=True)"
   ]
  },
  {
   "cell_type": "markdown",
   "id": "124dcfb2",
   "metadata": {},
   "source": []
  },
  {
   "cell_type": "markdown",
   "id": "df13558e",
   "metadata": {},
   "source": [
    "## Development Configuration"
   ]
  },
  {
   "cell_type": "code",
   "execution_count": 2,
   "id": "18b59d1f",
   "metadata": {},
   "outputs": [],
   "source": [
    "import os\n",
    "from flask import Flask\n",
    "\n",
    "app = Flask(__name__)\n",
    "\n",
    "# Configuration\n",
    "class Config:\n",
    "    DEBUG = False\n",
    "    TESTING = False\n",
    "\n",
    "class DevelopmentConfig(Config):\n",
    "    DEBUG = True\n",
    "    SECRET_KEY = 'dev-secret-key'\n",
    "\n",
    "class ProductionConfig(Config):\n",
    "    DEBUG = False\n",
    "    SECRET_KEY = os.environ.get('SECRET_KEY', 'prod-secret-key')\n",
    "\n",
    "# Choose configuration based on environment\n",
    "if os.environ.get('FLASK_ENV') == 'development':\n",
    "    app.config.from_object(DevelopmentConfig)\n",
    "else:\n",
    "    app.config.from_object(ProductionConfig)"
   ]
  },
  {
   "cell_type": "markdown",
   "id": "0c1e3f0d",
   "metadata": {},
   "source": [
    "### Common Error Types\n",
    "\n",
    "\n",
    "HTTP Status Codes"
   ]
  },
  {
   "cell_type": "code",
   "execution_count": 3,
   "id": "c25f67d8",
   "metadata": {},
   "outputs": [],
   "source": [
    "from flask import Flask, abort\n",
    "\n",
    "app = Flask(__name__)\n",
    "\n",
    "# Common HTTP Errors\n",
    "@app.route('/examples')\n",
    "def error_examples():\n",
    "    # 400 - Bad Request\n",
    "    # 401 - Unauthorized\n",
    "    # 403 - Forbidden\n",
    "    # 404 - Not Found\n",
    "    # 405 - Method Not Allowed\n",
    "    # 500 - Internal Server Error\n",
    "    \n",
    "    # Manually trigger errors\n",
    "    abort(404)  # Page not found\n",
    "    abort(500)  # Internal server error"
   ]
  },
  {
   "cell_type": "markdown",
   "id": "7121bc28",
   "metadata": {},
   "source": [
    "## Custom Error Classes "
   ]
  },
  {
   "cell_type": "code",
   "execution_count": 4,
   "id": "63aa4215",
   "metadata": {},
   "outputs": [],
   "source": [
    "class DatabaseConnectionError(Exception):\n",
    "    \"\"\"Custom exception for database issues\"\"\"\n",
    "    pass\n",
    "\n",
    "class ValidationError(Exception):\n",
    "    \"\"\"Custom exception for data validation\"\"\"\n",
    "    pass\n",
    "\n",
    "# Register custom exceptions\n",
    "@app.errorhandler(DatabaseConnectionError)\n",
    "def handle_database_error(error):\n",
    "    return \"Database connection failed\", 503\n",
    "\n",
    "@app.errorhandler(ValidationError)\n",
    "def handle_validation_error(error):\n",
    "    return \"Invalid data provided\", 400"
   ]
  },
  {
   "cell_type": "markdown",
   "id": "33cfe4f1",
   "metadata": {},
   "source": [
    "## Custom Error Pages\n",
    "\n",
    "Basic Error Handlers"
   ]
  },
  {
   "cell_type": "code",
   "execution_count": 5,
   "id": "da63e803",
   "metadata": {},
   "outputs": [],
   "source": [
    "from flask import Flask, render_template\n",
    "\n",
    "app = Flask(__name__)\n",
    "\n",
    "@app.errorhandler(404)\n",
    "def page_not_found(error):\n",
    "    return render_template('404.html'), 404\n",
    "\n",
    "@app.errorhandler(500)\n",
    "def internal_server_error(error):\n",
    "    return render_template('500.html'), 500\n",
    "\n",
    "@app.errorhandler(403)\n",
    "def forbidden(error):\n",
    "    return render_template('403.html'), 403"
   ]
  },
  {
   "cell_type": "markdown",
   "id": "9891d563",
   "metadata": {},
   "source": [
    "## Advanced Error Handling"
   ]
  },
  {
   "cell_type": "code",
   "execution_count": 6,
   "id": "6d3dc5ec",
   "metadata": {},
   "outputs": [],
   "source": [
    "import logging\n",
    "from flask import Flask, render_template, request, jsonify\n",
    "\n",
    "app = Flask(__name__)\n",
    "\n",
    "def log_error(error, status_code):\n",
    "    \"\"\"Log errors with context information\"\"\"\n",
    "    app.logger.error(\n",
    "        f'Error {status_code}: {error}\\n'\n",
    "        f'Path: {request.path}\\n'\n",
    "        f'Method: {request.method}\\n'\n",
    "        f'User Agent: {request.user_agent}\\n'\n",
    "        f'Referrer: {request.referrer}'\n",
    "    )\n",
    "\n",
    "@app.errorhandler(404)\n",
    "def not_found_error(error):\n",
    "    log_error(error, 404)\n",
    "    \n",
    "    if request.accept_mimetypes.accept_json and \\\n",
    "       not request.accept_mimetypes.accept_html:\n",
    "        return jsonify({'error': 'Resource not found'}), 404\n",
    "    \n",
    "    return render_template('errors/404.html'), 404\n",
    "\n",
    "@app.errorhandler(500)\n",
    "def internal_error(error):\n",
    "    log_error(error, 500)\n",
    "    \n",
    "    # In production, you might want to notify admins\n",
    "    if not app.debug:\n",
    "        # Send email to admin, log to monitoring service, etc.\n",
    "        pass\n",
    "    \n",
    "    if request.accept_mimetypes.accept_json and \\\n",
    "       not request.accept_mimetypes.accept_html:\n",
    "        return jsonify({'error': 'Internal server error'}), 500\n",
    "    \n",
    "    return render_template('errors/500.html'), 500\n",
    "\n",
    "# Handle all exceptions\n",
    "@app.errorhandler(Exception)\n",
    "def handle_unexpected_error(error):\n",
    "    log_error(error, 500)\n",
    "    \n",
    "    if not app.debug:\n",
    "        # In production, provide generic error message\n",
    "        if request.accept_mimetypes.accept_json and \\\n",
    "           not request.accept_mimetypes.accept_html:\n",
    "            return jsonify({'error': 'An unexpected error occurred'}), 500\n",
    "        \n",
    "        return render_template('errors/500.html'), 500\n",
    "    \n",
    "    # In development, let Flask debugger handle it\n",
    "    return error"
   ]
  },
  {
   "cell_type": "markdown",
   "id": "97f06fd4",
   "metadata": {},
   "source": [
    "## Debugging Best Practices\n",
    "Logging Configuration"
   ]
  },
  {
   "cell_type": "code",
   "execution_count": 7,
   "id": "09b4bd4c",
   "metadata": {},
   "outputs": [
    {
     "name": "stderr",
     "output_type": "stream",
     "text": [
      "[2025-10-03 23:12:31,755] INFO in 2421739839: Flask application startup\n"
     ]
    }
   ],
   "source": [
    "import logging\n",
    "from logging.handlers import RotatingFileHandler\n",
    "import os\n",
    "\n",
    "def setup_logging(app):\n",
    "    \"\"\"Configure application logging\"\"\"\n",
    "    \n",
    "    if not app.debug:\n",
    "        # Production logging\n",
    "        if not os.path.exists('logs'):\n",
    "            os.mkdir('logs')\n",
    "        \n",
    "        file_handler = RotatingFileHandler(\n",
    "            'logs/flask_app.log', \n",
    "            maxBytes=10240, \n",
    "            backupCount=10\n",
    "        )\n",
    "        file_handler.setFormatter(logging.Formatter(\n",
    "            '%(asctime)s %(levelname)s: %(message)s '\n",
    "            '[in %(pathname)s:%(lineno)d]'\n",
    "        ))\n",
    "        file_handler.setLevel(logging.INFO)\n",
    "        app.logger.addHandler(file_handler)\n",
    "        app.logger.setLevel(logging.INFO)\n",
    "        app.logger.info('Flask application startup')\n",
    "    \n",
    "    else:\n",
    "        # Development logging\n",
    "        app.logger.setLevel(logging.DEBUG)\n",
    "\n",
    "# Initialize logging\n",
    "setup_logging(app)"
   ]
  },
  {
   "cell_type": "markdown",
   "id": "d1d8f31a",
   "metadata": {},
   "source": [
    "## Debugging Utilities"
   ]
  },
  {
   "cell_type": "code",
   "execution_count": 8,
   "id": "6a9dd8f8",
   "metadata": {},
   "outputs": [],
   "source": [
    "from flask import current_app\n",
    "import functools\n",
    "\n",
    "def debug_route(f):\n",
    "    \"\"\"Decorator to add debug information to routes\"\"\"\n",
    "    @functools.wraps(f)\n",
    "    def decorated_function(*args, **kwargs):\n",
    "        current_app.logger.debug(\n",
    "            f\"Route called: {request.path} \"\n",
    "            f\"with method: {request.method}\"\n",
    "        )\n",
    "        try:\n",
    "            return f(*args, **kwargs)\n",
    "        except Exception as e:\n",
    "            current_app.logger.error(\n",
    "                f\"Error in route {request.path}: {str(e)}\"\n",
    "            )\n",
    "            raise\n",
    "    return decorated_function\n",
    "\n",
    "@app.route('/debug-info')\n",
    "@debug_route\n",
    "def debug_info():\n",
    "    \"\"\"Route with debug information\"\"\"\n",
    "    debug_data = {\n",
    "        'flask_debug': current_app.debug,\n",
    "        'environment': os.environ.get('FLASK_ENV', 'production'),\n",
    "        'secret_key_configured': bool(current_app.secret_key),\n",
    "    }\n",
    "    return jsonify(debug_data)"
   ]
  },
  {
   "cell_type": "markdown",
   "id": "00d12d46",
   "metadata": {},
   "source": [
    "### Complete Example Application\n",
    "\n",
    "Here's a complete Flask application with comprehensive error handling:\n",
    "Project Structure"
   ]
  },
  {
   "cell_type": "markdown",
   "id": "bc59b75b",
   "metadata": {},
   "source": [
    "flask_app/\n",
    "├── app.py\n",
    "├── templates/\n",
    "│   ├── base.html\n",
    "│   ├── index.html\n",
    "│   └── errors/\n",
    "│       ├── 400.html\n",
    "│       ├── 403.html\n",
    "│       ├── 404.html\n",
    "│       └── 500.html\n",
    "├── static/\n",
    "│   └── css/\n",
    "│       └── style.css\n",
    "└── logs/"
   ]
  },
  {
   "cell_type": "code",
   "execution_count": null,
   "id": "a5001ec0",
   "metadata": {},
   "outputs": [],
   "source": []
  }
 ],
 "metadata": {
  "kernelspec": {
   "display_name": "yenepoya",
   "language": "python",
   "name": "python3"
  },
  "language_info": {
   "codemirror_mode": {
    "name": "ipython",
    "version": 3
   },
   "file_extension": ".py",
   "mimetype": "text/x-python",
   "name": "python",
   "nbconvert_exporter": "python",
   "pygments_lexer": "ipython3",
   "version": "3.11.13"
  }
 },
 "nbformat": 4,
 "nbformat_minor": 5
}
