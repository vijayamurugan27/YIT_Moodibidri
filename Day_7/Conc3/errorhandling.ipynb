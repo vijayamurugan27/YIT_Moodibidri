{
 "cells": [
  {
   "cell_type": "markdown",
   "metadata": {},
   "source": [
    "# Error Handling and Debugging in Flask\n",
    "\n",
    "> **Teaching Note**: This guide covers essential techniques for debugging Flask applications during development and implementing user-friendly, secure error handling in production."
   ]
  },
  {
   "cell_type": "markdown",
   "metadata": {},
   "source": [
    "---"
   ]
  },
  {
   "cell_type": "markdown",
   "metadata": {},
   "source": [
    "## 1. Understanding Flask's Built-in Debugger\n",
    "\n",
    "Flask includes a powerful interactive debugger that helps during development."
   ]
  },
  {
   "cell_type": "markdown",
   "metadata": {},
   "source": [
    "### Enabling the Debugger"
   ]
  },
  {
   "cell_type": "code",
   "execution_count": null,
   "metadata": {},
   "outputs": [],
   "source": [
    "from flask import Flask\n",
    "\n",
    "app = Flask(__name__)\n",
    "app.debug = True  # Enable debug mode\n",
    "\n",
    "# Or set environment variable\n",
    "# export FLASK_ENV=development\n",
    "# export FLASK_DEBUG=1\n",
    "\n",
    "if __name__ == '__main__':\n",
    "    app.run(debug=True)"
   ]
  },
  {
   "cell_type": "markdown",
   "metadata": {},
   "source": [
    "### Debugger Features\n",
    "- **Interactive traceback**: Click on stack frames to inspect variables\n",
    "- **Console access**: Execute Python code in the context of any stack frame\n",
    "- **Auto-reload**: Automatically restarts when code changes\n",
    "\n",
    "> **⚠️ Security Warning**: Never enable debug mode in production! It can expose sensitive information and allow arbitrary code execution."
   ]
  },
  {
   "cell_type": "markdown",
   "metadata": {},
   "source": [
    "---"
   ]
  },
  {
   "cell_type": "markdown",
   "metadata": {},
   "source": [
    "## 2. Common Error Types in Flask"
   ]
  },
  {
   "cell_type": "markdown",
   "metadata": {},
   "source": [
    "### HTTP Errors\n",
    "- **404 Not Found**: Requested resource doesn't exist\n",
    "- **403 Forbidden**: Access denied\n",
    "- **400 Bad Request**: Invalid request data\n",
    "- **500 Internal Server Error**: Server-side error\n",
    "\n",
    "### Python Exceptions\n",
    "- `ValueError`, `TypeError`, `KeyError`, etc.\n",
    "- Database connection errors\n",
    "- File I/O errors\n",
    "- Import errors"
   ]
  },
  {
   "cell_type": "markdown",
   "metadata": {},
   "source": [
    "---"
   ]
  },
  {
   "cell_type": "markdown",
   "metadata": {},
   "source": [
    "## 3. Custom Error Pages"
   ]
  },
  {
   "cell_type": "markdown",
   "metadata": {},
   "source": [
    "### Basic Error Handlers"
   ]
  },
  {
   "cell_type": "code",
   "execution_count": null,
   "metadata": {},
   "outputs": [],
   "source": [
    "from flask import Flask, render_template\n",
    "\n",
    "app = Flask(__name__)\n",
    "\n",
    "@app.errorhandler(404)\n",
    "def not_found_error(error):\n",
    "    return render_template('errors/404.html'), 404\n",
    "\n",
    "@app.errorhandler(500)\n",
    "def internal_error(error):\n",
    "    # Log the error for debugging\n",
    "    app.logger.error(f'Server Error: {error}')\n",
    "    return render_template('errors/500.html'), 500\n",
    "\n",
    "@app.errorhandler(403)\n",
    "def forbidden_error(error):\n",
    "    return render_template('errors/403.html'), 403"
   ]
  },
  {
   "cell_type": "markdown",
   "metadata": {},
   "source": [
    "### Generic Exception Handler"
   ]
  },
  {
   "cell_type": "code",
   "execution_count": null,
   "metadata": {},
   "outputs": [],
   "source": [
    "@app.errorhandler(Exception)\n",
    "def handle_exception(e):\n",
    "    # Log the exception\n",
    "    app.logger.error(f'Unhandled exception: {str(e)}')\n",
    "    \n",
    "    # Return appropriate response based on request type\n",
    "    if request.is_json:\n",
    "        return {'error': 'Internal server error'}, 500\n",
    "    else:\n",
    "        return render_template('errors/500.html'), 500"
   ]
  },
  {
   "cell_type": "markdown",
   "metadata": {},
   "source": [
    "### Error Templates\n",
    "\n",
    "**templates/errors/404.html**"
   ]
  },
  {
   "cell_type": "code",
   "execution_count": null,
   "metadata": {},
   "outputs": [],
   "source": [
    "<!DOCTYPE html>\n",
    "<html>\n",
    "<head>\n",
    "    <title>Page Not Found</title>\n",
    "</head>\n",
    "<body>\n",
    "    <h1>404 - Page Not Found</h1>\n",
    "    <p>The page you're looking for doesn't exist.</p>\n",
    "    <a href=\"{{ url_for('index') }}\">Go Home</a>\n",
    "</body>\n",
    "</html>"
   ]
  },
  {
   "cell_type": "markdown",
   "metadata": {},
   "source": [
    "**templates/errors/500.html**"
   ]
  },
  {
   "cell_type": "code",
   "execution_count": null,
   "metadata": {},
   "outputs": [],
   "source": [
    "<!DOCTYPE html>\n",
    "<html>\n",
    "<head>\n",
    "    <title>Server Error</title>\n",
    "</head>\n",
    "<body>\n",
    "    <h1>500 - Internal Server Error</h1>\n",
    "    <p>Something went wrong on our end. We're working to fix it!</p>\n",
    "    <a href=\"{{ url_for('index') }}\">Go Home</a>\n",
    "</body>\n",
    "</html>"
   ]
  },
  {
   "cell_type": "markdown",
   "metadata": {},
   "source": [
    "---"
   ]
  },
  {
   "cell_type": "markdown",
   "metadata": {},
   "source": [
    "## 4. Advanced Error Handling"
   ]
  },
  {
   "cell_type": "markdown",
   "metadata": {},
   "source": [
    "### Custom Error Classes"
   ]
  },
  {
   "cell_type": "code",
   "execution_count": null,
   "metadata": {},
   "outputs": [],
   "source": [
    "class ValidationError(Exception):\n",
    "    \"\"\"Custom validation error\"\"\"\n",
    "    def __init__(self, message, status_code=400):\n",
    "        super().__init__(message)\n",
    "        self.message = message\n",
    "        self.status_code = status_code\n",
    "\n",
    "class AuthenticationError(Exception):\n",
    "    \"\"\"Custom authentication error\"\"\"\n",
    "    def __init__(self, message=\"Unauthorized\", status_code=401):\n",
    "        super().__init__(message)\n",
    "        self.message = message\n",
    "        self.status_code = status_code\n",
    "\n",
    "# Error handlers for custom exceptions\n",
    "@app.errorhandler(ValidationError)\n",
    "def handle_validation_error(error):\n",
    "    return {'error': error.message}, error.status_code\n",
    "\n",
    "@app.errorhandler(AuthenticationError)\n",
    "def handle_auth_error(error):\n",
    "    return {'error': error.message}, error.status_code"
   ]
  },
  {
   "cell_type": "markdown",
   "metadata": {},
   "source": [
    "### Usage in Routes"
   ]
  },
  {
   "cell_type": "code",
   "execution_count": null,
   "metadata": {},
   "outputs": [],
   "source": [
    "@app.route('/api/users', methods=['POST'])\n",
    "def create_user():\n",
    "    try:\n",
    "        data = request.get_json()\n",
    "        if not data or 'email' not in data:\n",
    "            raise ValidationError('Email is required')\n",
    "        \n",
    "        # Process user creation\n",
    "        user = create_user_in_db(data)\n",
    "        return {'user': user.to_dict()}, 201\n",
    "        \n",
    "    except ValidationError as e:\n",
    "        # This will be handled by the custom error handler\n",
    "        raise e\n",
    "    except Exception as e:\n",
    "        app.logger.error(f'User creation failed: {str(e)}')\n",
    "        raise  # This will be caught by the generic exception handler"
   ]
  },
  {
   "cell_type": "markdown",
   "metadata": {},
   "source": [
    "---"
   ]
  },
  {
   "cell_type": "markdown",
   "metadata": {},
   "source": [
    "## 5. Effective Debugging Techniques"
   ]
  },
  {
   "cell_type": "markdown",
   "metadata": {},
   "source": [
    "### Logging Configuration"
   ]
  },
  {
   "cell_type": "code",
   "execution_count": null,
   "metadata": {},
   "outputs": [],
   "source": [
    "import logging\n",
    "from logging.handlers import RotatingFileHandler\n",
    "import os\n",
    "\n",
    "def setup_logging(app):\n",
    "    if not app.debug and not app.testing:\n",
    "        # Production logging\n",
    "        if not os.path.exists('logs'):\n",
    "            os.mkdir('logs')\n",
    "        \n",
    "        file_handler = RotatingFileHandler(\n",
    "            'logs/app.log', \n",
    "            maxBytes=10240000,  # 10MB\n",
    "            backupCount=10\n",
    "        )\n",
    "        file_handler.setFormatter(logging.Formatter(\n",
    "            '%(asctime)s %(levelname)s: %(message)s [in %(pathname)s:%(lineno)d]'\n",
    "        ))\n",
    "        file_handler.setLevel(logging.INFO)\n",
    "        app.logger.addHandler(file_handler)\n",
    "        app.logger.setLevel(logging.INFO)\n",
    "        app.logger.info('Application startup')\n",
    "\n",
    "# Initialize logging\n",
    "setup_logging(app)"
   ]
  },
  {
   "cell_type": "markdown",
   "metadata": {},
   "source": [
    "### Debugging with Breakpoints"
   ]
  },
  {
   "cell_type": "code",
   "execution_count": null,
   "metadata": {},
   "outputs": [],
   "source": [
    "@app.route('/debug-route')\n",
    "def debug_route():\n",
    "    user_id = request.args.get('user_id')\n",
    "    \n",
    "    # Set breakpoint for debugging\n",
    "    import pdb; pdb.set_trace()  # Traditional debugger\n",
    "    \n",
    "    # Or use Flask's built-in debugger\n",
    "    # This will trigger the interactive debugger if debug=True\n",
    "    if user_id is None:\n",
    "        raise ValueError(\"User ID is required\")\n",
    "    \n",
    "    return f\"User ID: {user_id}\""
   ]
  },
  {
   "cell_type": "markdown",
   "metadata": {},
   "source": [
    "### Using Flask-DebugToolbar"
   ]
  },
  {
   "cell_type": "code",
   "execution_count": null,
   "metadata": {},
   "outputs": [],
   "source": [
    "# First install: pip install Flask-DebugToolbar\n",
    "\n",
    "from flask_debugtoolbar import DebugToolbarExtension\n",
    "\n",
    "app = Flask(__name__)\n",
    "app.config['SECRET_KEY'] = 'your-secret-key'\n",
    "app.debug = True\n",
    "\n",
    "# Initialize debug toolbar\n",
    "toolbar = DebugToolbarExtension(app)\n",
    "\n",
    "# The toolbar will automatically appear on all pages when debug=True"
   ]
  },
  {
   "cell_type": "markdown",
   "metadata": {},
   "source": [
    "---"
   ]
  },
  {
   "cell_type": "markdown",
   "metadata": {},
   "source": [
    "## 6. Production Error Handling"
   ]
  },
  {
   "cell_type": "markdown",
   "metadata": {},
   "source": [
    "### Sentry Integration (Error Monitoring)"
   ]
  },
  {
   "cell_type": "code",
   "execution_count": null,
   "metadata": {},
   "outputs": [],
   "source": [
    "# First install: pip install sentry-sdk[flask]\n",
    "\n",
    "import sentry_sdk\n",
    "from sentry_sdk.integrations.flask import FlaskIntegration\n",
    "\n",
    "# Initialize Sentry\n",
    "sentry_sdk.init(\n",
    "    dsn=\"your-sentry-dsn\",\n",
    "    integrations=[FlaskIntegration()],\n",
    "    traces_sample_rate=1.0\n",
    ")\n",
    "\n",
    "app = Flask(__name__)"
   ]
  },
  {
   "cell_type": "markdown",
   "metadata": {},
   "source": [
    "### Health Check Endpoint"
   ]
  },
  {
   "cell_type": "code",
   "execution_count": null,
   "metadata": {},
   "outputs": [],
   "source": [
    "@app.route('/health')\n",
    "def health_check():\n",
    "    try:\n",
    "        # Check database connection\n",
    "        db.session.execute('SELECT 1')\n",
    "        return {'status': 'healthy', 'database': 'connected'}, 200\n",
    "    except Exception as e:\n",
    "        app.logger.error(f'Health check failed: {str(e)}')\n",
    "        return {'status': 'unhealthy', 'error': str(e)}, 500"
   ]
  },
  {
   "cell_type": "markdown",
   "metadata": {},
   "source": [
    "---"
   ]
  },
  {
   "cell_type": "markdown",
   "metadata": {},
   "source": [
    "## 7. Best Practices"
   ]
  },
  {
   "cell_type": "markdown",
   "metadata": {},
   "source": [
    "### 1. Environment-Specific Configuration"
   ]
  },
  {
   "cell_type": "code",
   "execution_count": null,
   "metadata": {},
   "outputs": [],
   "source": [
    "class Config:\n",
    "    DEBUG = False\n",
    "    TESTING = False\n",
    "    LOG_LEVEL = logging.INFO\n",
    "\n",
    "class DevelopmentConfig(Config):\n",
    "    DEBUG = True\n",
    "    LOG_LEVEL = logging.DEBUG\n",
    "\n",
    "class ProductionConfig(Config):\n",
    "    LOG_LEVEL = logging.WARNING\n",
    "\n",
    "# Load appropriate config\n",
    "app.config.from_object(ProductionConfig if os.environ.get('FLASK_ENV') == 'production' else DevelopmentConfig)"
   ]
  },
  {
   "cell_type": "markdown",
   "metadata": {},
   "source": [
    "### 2. User-Friendly Error Messages"
   ]
  },
  {
   "cell_type": "code",
   "execution_count": null,
   "metadata": {},
   "outputs": [],
   "source": [
    "@app.errorhandler(404)\n",
    "def not_found_error(error):\n",
    "    # Don't expose internal details to users\n",
    "    return {\n",
    "        'error': 'The requested resource was not found',\n",
    "        'status_code': 404\n",
    "    }, 404"
   ]
  },
  {
   "cell_type": "markdown",
   "metadata": {},
   "source": [
    "### 3. Comprehensive Logging"
   ]
  },
  {
   "cell_type": "code",
   "execution_count": null,
   "metadata": {},
   "outputs": [],
   "source": [
    "@app.errorhandler(Exception)\n",
    "def handle_exception(e):\n",
    "    # Log with context\n",
    "    app.logger.error(\n",
    "        f'Exception on {request.path} [{request.method}]: {str(e)}',\n",
    "        extra={\n",
    "            'user_id': getattr(g, 'user_id', 'anonymous'),\n",
    "            'ip_address': request.remote_addr,\n",
    "            'user_agent': request.user_agent.string\n",
    "        }\n",
    "    )\n",
    "    return {'error': 'Internal server error'}, 500"
   ]
  },
  {
   "cell_type": "markdown",
   "metadata": {},
   "source": [
    "### 4. Testing Error Handlers"
   ]
  },
  {
   "cell_type": "code",
   "execution_count": null,
   "metadata": {},
   "outputs": [],
   "source": [
    "# First install: pip install pytest\n",
    "\n",
    "import pytest\n",
    "from your_app import app\n",
    "\n",
    "def test_404_error():\n",
    "    with app.test_client() as client:\n",
    "        response = client.get('/non-existent-page')\n",
    "        assert response.status_code == 404\n",
    "        assert b'Page Not Found' in response.data\n",
    "\n",
    "def test_500_error():\n",
    "    # Simulate an error\n",
    "    with app.test_client() as client:\n",
    "        with app.app_context():\n",
    "            # Force an exception\n",
    "            response = client.get('/route-that-causes-error')\n",
    "            assert response.status_code == 500"
   ]
  },
  {
   "cell_type": "markdown",
   "metadata": {},
   "source": [
    "---"
   ]
  },
  {
   "cell_type": "markdown",
   "metadata": {},
   "source": [
    "## Summary Checklist\n",
    "\n",
    "✅ **Development**:\n",
    "- Enable Flask debugger\n",
    "- Use logging with appropriate levels\n",
    "- Test error handlers\n",
    "\n",
    "✅ **Production**:\n",
    "- Disable debug mode\n",
    "- Implement custom error pages\n",
    "- Set up proper logging\n",
    "- Use error monitoring (Sentry, etc.)\n",
    "- Provide user-friendly error messages\n",
    "\n",
    "✅ **Security**:\n",
    "- Never expose stack traces to users\n",
    "- Log errors securely\n",
    "- Validate all inputs\n",
    "- Handle exceptions gracefully\n",
    "\n",
    "> **Teaching Tip**: Emphasize the difference between development and production environments. Students should understand that good error handling is crucial for both debugging during development and providing a good user experience in production."
   ]
  }
 ],
 "metadata": {
  "kernelspec": {
   "display_name": "Python 3",
   "language": "python",
   "name": "python3"
  },
  "language_info": {
   "codemirror_mode": {
    "name": "ipython",
    "version": 3
   },
   "file_extension": ".py",
   "mimetype": "text/x-python",
   "name": "python",
   "nbconvert_exporter": "python",
   "pygments_lexer": "ipython3",
   "version": "3.9.0"
  }
 },
 "nbformat": 4,
 "nbformat_minor": 4
}