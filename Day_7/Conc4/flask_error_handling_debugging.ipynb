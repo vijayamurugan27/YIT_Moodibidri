{
 "cells": [
  {
   "cell_type": "markdown",
   "metadata": {},
   "source": [
    "# Flask Error Handling and Debugging\n",
    "\n",
    "This notebook covers how to debug Flask applications, handle errors, and implement custom error pages."
   ]
  },
  {
   "cell_type": "code",
   "execution_count": null,
   "metadata": {},
   "outputs": [],
   "source": [
    "from flask import Flask\n",
    "\n",
    "app = Flask(__name__)\n",
    "app.config['DEBUG'] = True   # Enables debugger\n",
    "\n",
    "@app.route('/')\n",
    "def home():\n",
    "    return 1 / 0   # intentional error"
   ]
  },
  {
   "cell_type": "markdown",
   "metadata": {},
   "source": [
    "## Common Error Types\n",
    "- 404 Not Found\n",
    "- 500 Internal Server Error\n",
    "- 400 Bad Request\n",
    "- 401 Unauthorized / 403 Forbidden\n",
    "- 405 Method Not Allowed"
   ]
  },
  {
   "cell_type": "markdown",
   "metadata": {},
   "source": [
    "# 3. Custom Error Pages\n",
    "\n",
    "You can override Flask’s default error responses with user-friendly pages."
   ]
  },
  {
   "cell_type": "code",
   "execution_count": null,
   "metadata": {},
   "outputs": [],
   "source": [
    "from flask import render_template\n",
    "\n",
    "@app.errorhandler(404)\n",
    "def not_found(e):\n",
    "    return render_template(\"404.html\"), 404\n",
    "\n",
    "@app.errorhandler(500)\n",
    "def internal_error(e):\n",
    "    return render_template(\"500.html\"), 500"
   ]
  },
  {
   "cell_type": "markdown",
   "metadata": {},
   "source": [
    "### Example : 404.html\n",
    "\n",
    "\n",
    "<!DOCTYPE html>\n",
    "<html>\n",
    "<head><title>Page Not Found</title></head>\n",
    "<body>\n",
    "  <h1>Oops! Page not found (404)</h1>\n",
    "  <a href=\"/\">Go Home</a>\n",
    "</body>\n",
    "</html>\n",
    "\n"
   ]
  },
  {
   "cell_type": "markdown",
   "metadata": {},
   "source": [
    "# 4. Logging Errors.\n",
    "\n",
    "Instead of just showing errors, log them for debugging:\n"
   ]
  },
  {
   "cell_type": "code",
   "execution_count": null,
   "metadata": {},
   "outputs": [],
   "source": [
    "import logging\n",
    "\n",
    "logging.basicConfig(filename='error.log', level=logging.ERROR)\n",
    "\n",
    "@app.errorhandler(Exception)\n",
    "def handle_exception(e):\n",
    "    app.logger.error(f\"Error occurred: {e}\")\n",
    "    return \"Something went wrong. We are working on it!\", 500"
   ]
  },
  {
   "cell_type": "markdown",
   "metadata": {},
   "source": [
    "# 5. Debugging Effectively\n",
    "\n",
    "✅ Use print() or logging for tracing\n",
    "✅ Use pdb for breakpoints:"
   ]
  },
  {
   "cell_type": "code",
   "execution_count": null,
   "metadata": {},
   "outputs": [],
   "source": [
    "import pdb\n",
    "\n",
    "@app.route('/debug')\n",
    "def debug():\n",
    "    x = 10\n",
    "    pdb.set_trace()  # Debug breakpoint\n",
    "    return str(x)"
   ]
  },
  {
   "cell_type": "markdown",
   "metadata": {},
   "source": [
    "## Best Practices\n",
    "- Use DEBUG=True for development\n",
    "- Create custom error handlers\n",
    "- Log errors\n",
    "- Never expose debug mode in production\n",
    "- Use monitoring tools like Sentry or Rollbar"
   ]
  }
 ],
 "metadata": {
  "kernelspec": {
   "display_name": "yenepoya",
   "language": "python",
   "name": "python3"
  },
  "language_info": {
   "codemirror_mode": {
    "name": "ipython",
    "version": 3
   },
   "file_extension": ".py",
   "mimetype": "text/x-python",
   "name": "python",
   "nbconvert_exporter": "python",
   "pygments_lexer": "ipython3",
   "version": "3.11.13"
  }
 },
 "nbformat": 4,
 "nbformat_minor": 2
}
