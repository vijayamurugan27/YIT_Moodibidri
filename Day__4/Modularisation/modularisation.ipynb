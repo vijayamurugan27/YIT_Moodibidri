{
 "cells": [
  {
   "cell_type": "markdown",
   "id": "e0e7c191",
   "metadata": {},
   "source": [
    "# Modularisation."
   ]
  },
  {
   "cell_type": "markdown",
   "id": "2f3c2487",
   "metadata": {},
   "source": [
    "1. What is Modularization?\n",
    "\n",
    "Modularization means breaking your code into smaller, reusable, and organized pieces (modules).\n",
    "\n",
    "Instead of writing everything inside a single app.py file, you split your code into modules like routes, models, templates, static files, and configuration.\n",
    "\n",
    "This makes your project easier to maintain, scale, and debug.\n",
    "\n",
    "Think of it as:\n",
    "👉 Small Lego blocks (modules) → assembled together → complete Flask app.\n",
    "\n",
    "2. Why Organize Code in Flask?\n",
    "\n",
    "Keeps your project readable (important as the app grows).\n",
    "\n",
    "Avoids long app.py files with thousands of lines.\n",
    "\n",
    "Supports collaboration (different team members can work on routes, models, etc.).\n",
    "\n",
    "Encourages reusability (same functions or blueprints reused in multiple projects)."
   ]
  },
  {
   "cell_type": "markdown",
   "id": "879cbfc0",
   "metadata": {},
   "source": [
    "## Flask Project Structure\n",
    "\n",
    "Here’s a basic structure for small apps:"
   ]
  },
  {
   "cell_type": "markdown",
   "id": "ddd7a60f",
   "metadata": {},
   "source": [
    "my_flask_app/\n",
    "│\n",
    "├── app.py                 # Main application entry point\n",
    "├── requirements.txt       # Project dependencies\n",
    "│\n",
    "├── templates/             # HTML templates (Jinja2)\n",
    "│   └── index.html\n",
    "│\n",
    "├── static/                # Static files (CSS, JS, images)\n",
    "│   └── style.css\n",
    "│\n",
    "└── config.py              # Configuration settings\n"
   ]
  },
  {
   "cell_type": "markdown",
   "id": "d57f600a",
   "metadata": {},
   "source": [
    "## Flask Project Structure When the app grows, use Modular / Package Structure with Blueprints:"
   ]
  },
  {
   "cell_type": "markdown",
   "id": "6af79c11",
   "metadata": {},
   "source": [
    "my_flask_app/\n",
    "│\n",
    "├── run.py                     # Entry point to run the app\n",
    "├── config.py                  # Configurations\n",
    "├── requirements.txt\n",
    "│\n",
    "├── app/                       # Main application package\n",
    "│   ├── __init__.py            # Initializes the app, register blueprints\n",
    "│   ├── models.py              # Database models\n",
    "│   ├── extensions.py          # For db, login_manager, migrate, etc.\n",
    "│   │\n",
    "│   ├── routes/                # Organized routes (modularized)\n",
    "│   │   ├── __init__.py\n",
    "│   │   ├── auth.py            # Authentication routes\n",
    "│   │   ├── dashboard.py       # Dashboard routes\n",
    "│   │   └── blog.py            # Blog routes\n",
    "│   │\n",
    "│   ├── templates/             # HTML templates\n",
    "│   │   ├── base.html\n",
    "│   │   ├── auth/\n",
    "│   │   │   └── login.html\n",
    "│   │   └── blog/\n",
    "│   │       └── post.html\n",
    "│   │\n",
    "│   └── static/                # Static files (CSS, JS, images)\n",
    "│       └── style.css\n"
   ]
  },
  {
   "cell_type": "markdown",
   "id": "99d5340b",
   "metadata": {},
   "source": [
    "5. Benefits of Modularization in Flask\n",
    "\n",
    "✅ Clean & scalable structure\n",
    "✅ Easier debugging & testing\n",
    "✅ Separation of concerns (routes, models, configs)\n",
    "✅ Team collaboration possible"
   ]
  },
  {
   "cell_type": "markdown",
   "id": "c0001ddd",
   "metadata": {},
   "source": [
    "## Example To-do list"
   ]
  },
  {
   "cell_type": "markdown",
   "id": "c9d405e3",
   "metadata": {},
   "source": [
    "### Folder structure"
   ]
  },
  {
   "cell_type": "markdown",
   "id": "7c8a9465",
   "metadata": {},
   "source": [
    "todo_app/\n",
    "│\n",
    "├── run.py\n",
    "├── config.py\n",
    "│\n",
    "├── app/\n",
    "│   ├── __init__.py\n",
    "│   ├── models.py\n",
    "│   ├── extensions.py\n",
    "│   │\n",
    "│   ├── routes/\n",
    "│   │   ├── __init__.py\n",
    "│   │   └── todo.py\n",
    "│   │\n",
    "│   ├── templates/\n",
    "│   │   ├── base.html\n",
    "│   │   └── todo/\n",
    "│   │       └── index.html\n",
    "│   │\n",
    "│   └── static/\n",
    "│       ├── css/\n",
    "│       │   └── style.css\n",
    "│       └── js/\n",
    "│           └── script.js\n"
   ]
  },
  {
   "cell_type": "markdown",
   "id": "6444763d",
   "metadata": {},
   "source": []
  }
 ],
 "metadata": {
  "language_info": {
   "name": "python"
  }
 },
 "nbformat": 4,
 "nbformat_minor": 5
}
