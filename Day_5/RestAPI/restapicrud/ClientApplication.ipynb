{
 "cells": [
  {
   "cell_type": "markdown",
   "id": "b2cbb4ee",
   "metadata": {},
   "source": [
    "# Client end for RESTAPI Application."
   ]
  },
  {
   "cell_type": "code",
   "execution_count": 1,
   "id": "2872d9ef",
   "metadata": {},
   "outputs": [
    {
     "name": "stdout",
     "output_type": "stream",
     "text": [
      "hello\n"
     ]
    }
   ],
   "source": [
    "print(\"hello\")"
   ]
  },
  {
   "cell_type": "code",
   "execution_count": null,
   "id": "7296d18f",
   "metadata": {},
   "outputs": [],
   "source": [
    "# !pip install requests\n"
   ]
  },
  {
   "cell_type": "code",
   "execution_count": 11,
   "id": "07ece697",
   "metadata": {},
   "outputs": [],
   "source": [
    "import requests\n",
    "\n",
    "BASE_URL = \"http://127.0.0.1:5000\"\n"
   ]
  },
  {
   "cell_type": "markdown",
   "id": "b88d700c",
   "metadata": {},
   "source": [
    "## CRUD Operations\n",
    "\n",
    "\n",
    " "
   ]
  },
  {
   "cell_type": "markdown",
   "id": "f3a3830b",
   "metadata": {},
   "source": [
    "### Create (POST)"
   ]
  },
  {
   "cell_type": "code",
   "execution_count": 24,
   "id": "4a0b81d3",
   "metadata": {},
   "outputs": [
    {
     "name": "stdout",
     "output_type": "stream",
     "text": [
      "Status: 201\n",
      "Response: {'course': 'CSE', 'id': 6, 'name': 'kumaravel'}\n"
     ]
    }
   ],
   "source": [
    "new_student = {\"name\": \"kumaravel\", \"course\": \"CSE\"}\n",
    "response = requests.post(f\"{BASE_URL}/students\", json=new_student)\n",
    "print(\"Status:\", response.status_code)\n",
    "print(\"Response:\", response.json())\n"
   ]
  },
  {
   "cell_type": "markdown",
   "id": "c9d95f66",
   "metadata": {},
   "source": [
    "### Creating Multiple posts at a time."
   ]
  },
  {
   "cell_type": "code",
   "execution_count": 25,
   "id": "43aade4b",
   "metadata": {},
   "outputs": [
    {
     "name": "stdout",
     "output_type": "stream",
     "text": [
      "{'course': 'CSE', 'id': 7, 'name': 'Alice'}\n",
      "{'course': 'ECE', 'id': 8, 'name': 'Bob'}\n",
      "{'course': 'MECH', 'id': 9, 'name': 'Charlie'}\n",
      "{'course': 'AI', 'id': 10, 'name': 'Diana'}\n"
     ]
    }
   ],
   "source": [
    "students = [\n",
    "    {\"name\": \"Alice\", \"course\": \"CSE\"},\n",
    "    {\"name\": \"Bob\", \"course\": \"ECE\"},\n",
    "    {\"name\": \"Charlie\", \"course\": \"MECH\"},\n",
    "    {\"name\": \"Diana\", \"course\": \"AI\"}\n",
    "]\n",
    "\n",
    "for student in students:\n",
    "    response = requests.post(f\"{BASE_URL}/students\", json=student)\n",
    "    print(response.json())\n"
   ]
  },
  {
   "cell_type": "markdown",
   "id": "8e094951",
   "metadata": {},
   "source": [
    "### Read All (GET)"
   ]
  },
  {
   "cell_type": "code",
   "execution_count": 26,
   "id": "8277db60",
   "metadata": {},
   "outputs": [
    {
     "name": "stdout",
     "output_type": "stream",
     "text": [
      "Status: 200\n",
      "Response: [{'course': 'AI', 'id': 2, 'name': 'Alice Updated'}, {'course': 'ECE', 'id': 3, 'name': 'Bob'}, {'course': 'MECH', 'id': 4, 'name': 'Charlie'}, {'course': 'AI', 'id': 5, 'name': 'Diana'}, {'course': 'CSE', 'id': 6, 'name': 'kumaravel'}, {'course': 'CSE', 'id': 7, 'name': 'Alice'}, {'course': 'ECE', 'id': 8, 'name': 'Bob'}, {'course': 'MECH', 'id': 9, 'name': 'Charlie'}, {'course': 'AI', 'id': 10, 'name': 'Diana'}]\n"
     ]
    }
   ],
   "source": [
    "response = requests.get(f\"{BASE_URL}/students\")\n",
    "print(\"Status:\", response.status_code)\n",
    "print(\"Response:\", response.json())\n"
   ]
  },
  {
   "cell_type": "markdown",
   "id": "8776ac6a",
   "metadata": {},
   "source": [
    "### Read One (GET by ID)"
   ]
  },
  {
   "cell_type": "code",
   "execution_count": 20,
   "id": "40292f49",
   "metadata": {},
   "outputs": [
    {
     "name": "stdout",
     "output_type": "stream",
     "text": [
      "Status: 200\n",
      "Response: {'course': 'CSE', 'id': 2, 'name': 'Alice'}\n"
     ]
    }
   ],
   "source": [
    "student_id = 2\n",
    "response = requests.get(f\"{BASE_URL}/students/{student_id}\")\n",
    "print(\"Status:\", response.status_code)\n",
    "print(\"Response:\", response.json())\n"
   ]
  },
  {
   "cell_type": "markdown",
   "id": "7e70cb0f",
   "metadata": {},
   "source": [
    "### Update (PUT)"
   ]
  },
  {
   "cell_type": "code",
   "execution_count": 21,
   "id": "98ecc6b7",
   "metadata": {},
   "outputs": [
    {
     "name": "stdout",
     "output_type": "stream",
     "text": [
      "Status: 200\n",
      "Response: {'course': 'AI', 'id': 2, 'name': 'Alice Updated'}\n"
     ]
    }
   ],
   "source": [
    "student_id = 2\n",
    "update_data = {\"name\": \"Alice Updated\", \"course\": \"AI\"}\n",
    "response = requests.put(f\"{BASE_URL}/students/{student_id}\", json=update_data)\n",
    "print(\"Status:\", response.status_code)\n",
    "print(\"Response:\", response.json())\n"
   ]
  },
  {
   "cell_type": "markdown",
   "id": "43038187",
   "metadata": {},
   "source": [
    "### Delete (DELETE)"
   ]
  },
  {
   "cell_type": "code",
   "execution_count": 18,
   "id": "5673f164",
   "metadata": {},
   "outputs": [
    {
     "name": "stdout",
     "output_type": "stream",
     "text": [
      "Status: 200\n",
      "Response: {'message': 'Student deleted successfully'}\n"
     ]
    }
   ],
   "source": [
    "student_id = 1\n",
    "response = requests.delete(f\"{BASE_URL}/students/{student_id}\")\n",
    "print(\"Status:\", response.status_code)\n",
    "print(\"Response:\", response.json())\n"
   ]
  },
  {
   "cell_type": "code",
   "execution_count": 22,
   "id": "15bd7159",
   "metadata": {},
   "outputs": [
    {
     "name": "stdout",
     "output_type": "stream",
     "text": [
      "[{'course': 'AI', 'id': 2, 'name': 'Alice Updated'}, {'course': 'ECE', 'id': 3, 'name': 'Bob'}, {'course': 'MECH', 'id': 4, 'name': 'Charlie'}, {'course': 'AI', 'id': 5, 'name': 'Diana'}]\n"
     ]
    }
   ],
   "source": [
    "import requests\n",
    "response = requests.get(\"http://127.0.0.1:5000/students\")\n",
    "print(response.json())\n"
   ]
  }
 ],
 "metadata": {
  "kernelspec": {
   "display_name": "yenepoya",
   "language": "python",
   "name": "python3"
  },
  "language_info": {
   "codemirror_mode": {
    "name": "ipython",
    "version": 3
   },
   "file_extension": ".py",
   "mimetype": "text/x-python",
   "name": "python",
   "nbconvert_exporter": "python",
   "pygments_lexer": "ipython3",
   "version": "3.11.13"
  }
 },
 "nbformat": 4,
 "nbformat_minor": 5
}
