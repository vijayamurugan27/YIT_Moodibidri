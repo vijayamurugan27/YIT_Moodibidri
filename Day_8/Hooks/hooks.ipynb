{
 "cells": [
  {
   "cell_type": "code",
   "execution_count": 1,
   "id": "25bd7c9e",
   "metadata": {},
   "outputs": [
    {
     "name": "stdout",
     "output_type": "stream",
     "text": [
      "hello world\n"
     ]
    }
   ],
   "source": [
    "print(\"hello world\")"
   ]
  },
  {
   "cell_type": "markdown",
   "id": "ee059530",
   "metadata": {},
   "source": [
    "# Request/Response Hooks\n",
    "\n",
    "What Are Hooks?\n",
    "\n",
    "    Flask provides special decorators that “hook” into the request lifecycle:\n",
    "\n",
    "        1) @app.before_request → Runs before each request\n",
    "\n",
    "        2) @app.after_request → Runs after each request\n",
    "\n",
    "        3) @app.teardown_request → Runs after request teardown (cleanup)\n",
    "\n",
    "        4) @app.before_first_request → Runs once when the server starts"
   ]
  },
  {
   "cell_type": "code",
   "execution_count": 2,
   "id": "90cdd435",
   "metadata": {},
   "outputs": [
    {
     "name": "stdout",
     "output_type": "stream",
     "text": [
      " * Serving Flask app '__main__'\n",
      " * Debug mode: on\n"
     ]
    },
    {
     "name": "stderr",
     "output_type": "stream",
     "text": [
      "WARNING: This is a development server. Do not use it in a production deployment. Use a production WSGI server instead.\n",
      " * Running on http://127.0.0.1:5000\n",
      "Press CTRL+C to quit\n",
      " * Restarting with stat\n"
     ]
    },
    {
     "ename": "SystemExit",
     "evalue": "1",
     "output_type": "error",
     "traceback": [
      "An exception has occurred, use %tb to see the full traceback.\n",
      "\u001b[31mSystemExit\u001b[39m\u001b[31m:\u001b[39m 1\n"
     ]
    },
    {
     "name": "stderr",
     "output_type": "stream",
     "text": [
      "c:\\Users\\Lenovo\\anaconda3\\envs\\yenepoya\\Lib\\site-packages\\IPython\\core\\interactiveshell.py:3707: UserWarning: To exit: use 'exit', 'quit', or Ctrl-D.\n",
      "  warn(\"To exit: use 'exit', 'quit', or Ctrl-D.\", stacklevel=1)\n"
     ]
    }
   ],
   "source": [
    "from flask import Flask, request\n",
    "\n",
    "app = Flask(__name__)\n",
    "\n",
    "@app.before_request\n",
    "def before_request_func():\n",
    "    print(f\"➡️ Before handling request to: {request.path}\")\n",
    "\n",
    "@app.after_request\n",
    "def after_request_func(response):\n",
    "    print(f\"⬅️ After handling request: {response.status}\")\n",
    "    return response\n",
    "\n",
    "@app.teardown_request\n",
    "def teardown_request_func(error=None):\n",
    "    print(\"🧹 Cleaning up resources after request.\")\n",
    "\n",
    "@app.route('/')\n",
    "def home():\n",
    "    return \"Request hooks example\"\n",
    "\n",
    "if __name__ == \"__main__\":\n",
    "    app.run(debug=True)\n"
   ]
  },
  {
   "cell_type": "markdown",
   "id": "88f97480",
   "metadata": {},
   "source": [
    "Code Explanation\n",
    "\n",
    "    1) before_request: Great for authentication checks or timing.\n",
    "\n",
    "    2) after_request: Modify or log responses.\n",
    "\n",
    "    3) teardown_request: Release resources (like DB connections)."
   ]
  }
 ],
 "metadata": {
  "kernelspec": {
   "display_name": "yenepoya",
   "language": "python",
   "name": "python3"
  },
  "language_info": {
   "codemirror_mode": {
    "name": "ipython",
    "version": 3
   },
   "file_extension": ".py",
   "mimetype": "text/x-python",
   "name": "python",
   "nbconvert_exporter": "python",
   "pygments_lexer": "ipython3",
   "version": "3.11.13"
  }
 },
 "nbformat": 4,
 "nbformat_minor": 5
}
