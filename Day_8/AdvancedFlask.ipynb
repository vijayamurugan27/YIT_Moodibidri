{
 "cells": [
  {
   "cell_type": "markdown",
   "id": "44cbf880",
   "metadata": {},
   "source": [
    "# Advanced Flask Features"
   ]
  },
  {
   "cell_type": "code",
   "execution_count": 1,
   "id": "c9e6f966",
   "metadata": {},
   "outputs": [
    {
     "name": "stdout",
     "output_type": "stream",
     "text": [
      "hello world\n"
     ]
    }
   ],
   "source": [
    "print(\"hello world\")"
   ]
  },
  {
   "cell_type": "markdown",
   "id": "38ff6774",
   "metadata": {},
   "source": [
    "Today we will discuss on thses topics :\n",
    "\n",
    "    1) Middleware\n",
    "\n",
    "    2) Request/Response Hooks\n",
    "\n",
    "    3) File Uploads\n",
    "\n",
    "    4) Background Tasks"
   ]
  },
  {
   "cell_type": "markdown",
   "id": "aa019780",
   "metadata": {},
   "source": [
    "1. Middleware in Flask\n",
    "\n",
    "    What is Middleware?\n",
    "\n",
    "        Middleware sits between the Flask application and the WSGI server.\n",
    "        It can:\n",
    "\n",
    "           1) Inspect or modify the request before it reaches the app\n",
    "\n",
    "           2) Inspect or modify the response before it’s sent back to the client\n",
    "\n",
    "           3) Implement logging, authentication, caching, etc.\n",
    "\n",
    "    Why We Need It\n",
    "\n",
    "           4) To inject logic into every request (like authentication checks)\n",
    "\n",
    "           5) To log request/response data\n",
    "\n",
    "           6) To add cross-cutting concerns like compression or error handling globally"
   ]
  },
  {
   "cell_type": "code",
   "execution_count": 2,
   "id": "66a2c006",
   "metadata": {},
   "outputs": [
    {
     "name": "stdout",
     "output_type": "stream",
     "text": [
      " * Serving Flask app '__main__'\n",
      " * Debug mode: on\n"
     ]
    },
    {
     "name": "stderr",
     "output_type": "stream",
     "text": [
      "WARNING: This is a development server. Do not use it in a production deployment. Use a production WSGI server instead.\n",
      " * Running on http://127.0.0.1:5000\n",
      "Press CTRL+C to quit\n",
      " * Restarting with stat\n"
     ]
    },
    {
     "ename": "SystemExit",
     "evalue": "1",
     "output_type": "error",
     "traceback": [
      "An exception has occurred, use %tb to see the full traceback.\n",
      "\u001b[31mSystemExit\u001b[39m\u001b[31m:\u001b[39m 1\n"
     ]
    },
    {
     "name": "stderr",
     "output_type": "stream",
     "text": [
      "c:\\Users\\Lenovo\\anaconda3\\envs\\yenepoya\\Lib\\site-packages\\IPython\\core\\interactiveshell.py:3707: UserWarning: To exit: use 'exit', 'quit', or Ctrl-D.\n",
      "  warn(\"To exit: use 'exit', 'quit', or Ctrl-D.\", stacklevel=1)\n"
     ]
    }
   ],
   "source": [
    "from flask import Flask, request\n",
    "\n",
    "app = Flask(__name__)\n",
    "\n",
    "class SimpleMiddleware:\n",
    "    def __init__(self, app):\n",
    "        self.app = app\n",
    "\n",
    "    def __call__(self, environ, start_response):\n",
    "        # Code before the request reaches Flask\n",
    "        print(f\"📥 Incoming Request: {environ['PATH_INFO']}\")\n",
    "        \n",
    "        # Call the main Flask app\n",
    "        response = self.app(environ, start_response)\n",
    "        \n",
    "        # Code after Flask handles the request\n",
    "        print(\"📤 Response sent successfully.\")\n",
    "        return response\n",
    "\n",
    "app.wsgi_app = SimpleMiddleware(app.wsgi_app)\n",
    "\n",
    "@app.route('/')\n",
    "def index():\n",
    "    return \"Hello from Flask with Middleware!\"\n",
    "\n",
    "if __name__ == \"__main__\":\n",
    "    app.run(debug=True)\n"
   ]
  },
  {
   "cell_type": "markdown",
   "id": "a4cdd7d8",
   "metadata": {},
   "source": [
    "Request enters → SimpleMiddleware\n",
    "                   ↓\n",
    "              SecurityHeadersMiddleware\n",
    "                   ↓\n",
    "              TimingMiddleware\n",
    "                   ↓\n",
    "                Flask app\n",
    "                   ↓\n",
    "              TimingMiddleware\n",
    "                   ↓\n",
    "              SecurityHeadersMiddleware\n",
    "                   ↓\n",
    "              SimpleMiddleware\n",
    "Response leaves → Back to browser\n"
   ]
  },
  {
   "cell_type": "markdown",
   "id": "3c25700a",
   "metadata": {},
   "source": []
  }
 ],
 "metadata": {
  "kernelspec": {
   "display_name": "yenepoya",
   "language": "python",
   "name": "python3"
  },
  "language_info": {
   "codemirror_mode": {
    "name": "ipython",
    "version": 3
   },
   "file_extension": ".py",
   "mimetype": "text/x-python",
   "name": "python",
   "nbconvert_exporter": "python",
   "pygments_lexer": "ipython3",
   "version": "3.11.13"
  }
 },
 "nbformat": 4,
 "nbformat_minor": 5
}
