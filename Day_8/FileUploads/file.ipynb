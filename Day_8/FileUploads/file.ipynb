{
 "cells": [
  {
   "cell_type": "code",
   "execution_count": 1,
   "id": "5b043d83",
   "metadata": {},
   "outputs": [
    {
     "name": "stdout",
     "output_type": "stream",
     "text": [
      "hello world\n"
     ]
    }
   ],
   "source": [
    "print(\"hello world\")"
   ]
  },
  {
   "cell_type": "markdown",
   "id": "64dcdebd",
   "metadata": {},
   "source": [
    "# File Uploads\n",
    "    \n",
    "    Why We Need It\n",
    "\n",
    "        Web apps often need users to upload images, PDFs, etc. Flask makes this easy with request.files."
   ]
  },
  {
   "cell_type": "code",
   "execution_count": null,
   "id": "e582a810",
   "metadata": {},
   "outputs": [],
   "source": [
    "from flask import Flask, request, render_template_string\n",
    "import os\n",
    "\n",
    "app = Flask(__name__)\n",
    "UPLOAD_FOLDER = \"uploads\"\n",
    "os.makedirs(UPLOAD_FOLDER, exist_ok=True)\n",
    "app.config['UPLOAD_FOLDER'] = UPLOAD_FOLDER\n",
    "\n",
    "HTML_FORM = '''\n",
    "    <h2>Upload a File</h2>\n",
    "    <form method=\"POST\" enctype=\"multipart/form-data\">\n",
    "        <input type=\"file\" name=\"file\">\n",
    "        <input type=\"submit\">\n",
    "    </form>\n",
    "'''\n",
    "\n",
    "@app.route('/', methods=['GET', 'POST'])\n",
    "def upload_file():\n",
    "    if request.method == 'POST':\n",
    "        file = request.files['file']\n",
    "        if file:\n",
    "            filepath = os.path.join(app.config['UPLOAD_FOLDER'], file.filename)\n",
    "            file.save(filepath)\n",
    "            return f\"✅ File saved to {filepath}\"\n",
    "    return render_template_string(HTML_FORM)\n",
    "\n",
    "if __name__ == '__main__':\n",
    "    app.run(debug=True)\n"
   ]
  },
  {
   "cell_type": "markdown",
   "id": "9c8e9aa0",
   "metadata": {},
   "source": [
    "Code Explanation\n",
    "\n",
    "HTML form uses enctype=\"multipart/form-data\" for file data.\n",
    "\n",
    "request.files holds the uploaded file.\n",
    "\n",
    ".save() writes it to disk.\n",
    "\n",
    "The uploaded files are stored in the uploads/ folder."
   ]
  },
  {
   "cell_type": "markdown",
   "id": "8575fb96",
   "metadata": {},
   "source": []
  }
 ],
 "metadata": {
  "kernelspec": {
   "display_name": "yenepoya",
   "language": "python",
   "name": "python3"
  },
  "language_info": {
   "codemirror_mode": {
    "name": "ipython",
    "version": 3
   },
   "file_extension": ".py",
   "mimetype": "text/x-python",
   "name": "python",
   "nbconvert_exporter": "python",
   "pygments_lexer": "ipython3",
   "version": "3.11.13"
  }
 },
 "nbformat": 4,
 "nbformat_minor": 5
}
